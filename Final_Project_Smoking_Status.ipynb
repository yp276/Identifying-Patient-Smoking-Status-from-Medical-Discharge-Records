{
  "cells": [
    {
      "cell_type": "markdown",
      "metadata": {
        "id": "3FLIfEoHrGX6"
      },
      "source": [
        "# **Final Project: Smoking Status Identification from Clinical Notes**"
      ]
    },
    {
      "cell_type": "markdown",
      "metadata": {
        "id": "l5CMEwjvy5PJ"
      },
      "source": [
        "# Step 1: Import Data\n",
        "\n",
        "---\n",
        "\n"
      ]
    },
    {
      "cell_type": "code",
      "execution_count": null,
      "metadata": {
        "colab": {
          "base_uri": "https://localhost:8080/"
        },
        "id": "v01MxIc1UpRC",
        "outputId": "bc285b05-f9f3-493b-dfd9-633ad8014b68"
      },
      "outputs": [
        {
          "output_type": "stream",
          "name": "stdout",
          "text": [
            "Mounted at /content/drive\n"
          ]
        }
      ],
      "source": [
        "from google.colab import drive\n",
        "drive.mount('/content/drive')"
      ]
    },
    {
      "cell_type": "code",
      "execution_count": null,
      "metadata": {
        "colab": {
          "base_uri": "https://localhost:8080/"
        },
        "id": "lgHfjhe6y4zd",
        "outputId": "8d8bdb55-78ef-4cf6-a1e1-a645fad54d66"
      },
      "outputs": [
        {
          "output_type": "stream",
          "name": "stdout",
          "text": [
            "Mounted at /content/drive\n"
          ]
        }
      ],
      "source": [
        "from google.colab import drive\n",
        "drive.mount('/content/drive')\n",
        "import pandas as pd\n",
        "import numpy as np"
      ]
    },
    {
      "cell_type": "markdown",
      "metadata": {
        "id": "B67m-Z7K86fk"
      },
      "source": [
        "### Import Training Data"
      ]
    },
    {
      "cell_type": "code",
      "execution_count": null,
      "metadata": {
        "id": "6XVJaacJq8K0"
      },
      "outputs": [],
      "source": [
        "smoking_status_train_file = \"/content/drive/MyDrive/HIDS 6001 Project/Dataset/smoking_status_train.xml\""
      ]
    },
    {
      "cell_type": "code",
      "execution_count": null,
      "metadata": {
        "colab": {
          "base_uri": "https://localhost:8080/"
        },
        "id": "yykK-JDl8EcQ",
        "outputId": "95f890a0-32f0-4857-b4ed-68496378bfed"
      },
      "outputs": [
        {
          "output_type": "stream",
          "name": "stdout",
          "text": [
            "    Record_ID  Smoking_Status  \\\n",
            "0         641  CURRENT SMOKER   \n",
            "1         643  CURRENT SMOKER   \n",
            "2         681  CURRENT SMOKER   \n",
            "3         704  CURRENT SMOKER   \n",
            "4         757  CURRENT SMOKER   \n",
            "..        ...             ...   \n",
            "393       401         UNKNOWN   \n",
            "394       403         UNKNOWN   \n",
            "395       416         UNKNOWN   \n",
            "396       417         UNKNOWN   \n",
            "397       419         UNKNOWN   \n",
            "\n",
            "                                                  Text  \n",
            "0    977146916\\nHLGMC\\n2878891\\n022690\\n01/27/1997 ...  \n",
            "1    026738007\\nCMC\\n15319689\\n3/25/1998 12:00:00 A...  \n",
            "2    071962960\\nBH\\n4236518\\n417454\\n12/10/2001 12:...  \n",
            "3    418520250\\nNVH\\n61562872\\n3/11/1995 12:00:00 A...  \n",
            "4    301443520\\nCTMC\\n49020928\\n448922\\n1/11/1990 1...  \n",
            "..                                                 ...  \n",
            "393  917989835 RWH\\n5427551\\n405831\\n9660879\\n01/09...  \n",
            "394  817406016 RWH\\n3154334\\n554691\\n3547577\\n7/6/2...  \n",
            "395  517502848 ELMVH\\n18587541\\n6634152\\n12/12/2004...  \n",
            "396  895872725 ELMVH\\n99080881\\n979718\\n5/25/2002 1...  \n",
            "397  305757070 ELMVH\\n74973293\\n2973118\\n11/27/2003...  \n",
            "\n",
            "[398 rows x 3 columns]\n"
          ]
        }
      ],
      "source": [
        "import xml.etree.ElementTree as ET\n",
        "import pandas as pd\n",
        "\n",
        "# Parse the XML file\n",
        "tree = ET.parse(smoking_status_train_file)\n",
        "root = tree.getroot()\n",
        "\n",
        "# Define lists to store data\n",
        "record_list = []\n",
        "text_list = []\n",
        "\n",
        "# Extract data from XML\n",
        "for record in root.findall('RECORD'):\n",
        "    record_id = record.get('ID')\n",
        "    smoking_status = record.find('SMOKING').get('STATUS')\n",
        "\n",
        "    # Extract text data from the <TEXT> element\n",
        "    text_data = record.find('TEXT').text.strip()\n",
        "\n",
        "    # Append data to the respective lists\n",
        "    record_list.append({'Record_ID': record_id, 'Smoking_Status': smoking_status})\n",
        "    text_list.append(text_data)\n",
        "\n",
        "# Create DataFrames\n",
        "record_df = pd.DataFrame(record_list)\n",
        "text_df = pd.DataFrame({'Text': text_list})\n",
        "\n",
        "# Concatenate DataFrames\n",
        "smoking_status_train_df = pd.concat([record_df, text_df], axis=1)\n",
        "\n",
        "# Display the resulting DataFrame\n",
        "print(smoking_status_train_df)\n"
      ]
    },
    {
      "cell_type": "code",
      "execution_count": null,
      "metadata": {
        "colab": {
          "base_uri": "https://localhost:8080/"
        },
        "id": "hTJ3RezO3AL5",
        "outputId": "a132569b-7d2d-4260-b7ee-d7cbaeebbb34"
      },
      "outputs": [
        {
          "output_type": "execute_result",
          "data": {
            "text/plain": [
              "(398, 3)"
            ]
          },
          "metadata": {},
          "execution_count": 12
        }
      ],
      "source": [
        "smoking_status_train_df.head()\n",
        "smoking_status_train_df.shape"
      ]
    },
    {
      "cell_type": "markdown",
      "metadata": {
        "id": "JRtd5CqS9P_u"
      },
      "source": [
        "### Import Testing Data"
      ]
    },
    {
      "cell_type": "code",
      "execution_count": null,
      "metadata": {
        "id": "0atVIz_sP0-u"
      },
      "outputs": [],
      "source": [
        "smoking_status_test_file = \"/content/drive/MyDrive/HIDS 6001 Project/Dataset/smoking_status_test.xml\""
      ]
    },
    {
      "cell_type": "code",
      "execution_count": null,
      "metadata": {
        "colab": {
          "base_uri": "https://localhost:8080/"
        },
        "id": "oKSYXUmV-d7H",
        "outputId": "8fc12fba-5ee9-4350-d0dd-8350c109a2b5"
      },
      "outputs": [
        {
          "output_type": "stream",
          "name": "stdout",
          "text": [
            "    Record_ID                                               Text\n",
            "0         660  156406283\\nHLGMC\\n7213645\\n64723/51cy\\n5/28/19...\n",
            "1         845  487197293\\nPUOMC\\n2466262\\n408602\\n1976045\\n4/...\n",
            "2         515  176318078\\nFIH\\n4189699\\n28872/d70h\\n094756\\n1...\n",
            "3         562  245096078\\nFIH\\n9174858\\n12/February\\n997359\\n...\n",
            "4         633  237073320\\nFIH\\n9746390\\n797120\\n251605\\n01/26...\n",
            "..        ...                                                ...\n",
            "99        487  178557034 RWH\\n6914544\\n174533\\n944266\\n12/16/...\n",
            "100       488  522011500 ELMVH\\n98638774\\n324573\\n7/28/2000 1...\n",
            "101       492  020916369 ELMVH\\n07813686\\n4888155\\n06/21/2004...\n",
            "102       493  888428725 RWH\\n0712675\\n695770\\n6153969\\n11/4/...\n",
            "103       500  844970557 RWH\\n4822461\\n736093\\n8962225\\n11/16...\n",
            "\n",
            "[104 rows x 2 columns]\n"
          ]
        }
      ],
      "source": [
        "import xml.etree.ElementTree as ET\n",
        "import pandas as pd\n",
        "\n",
        "# Parse the XML file\n",
        "tree = ET.parse(smoking_status_test_file)\n",
        "root = tree.getroot()\n",
        "\n",
        "# Define lists to store data\n",
        "record_list = []\n",
        "text_list = []\n",
        "\n",
        "# Extract data from XML\n",
        "for record in root.findall('RECORD'):\n",
        "    record_id = record.get('ID')\n",
        "\n",
        "\n",
        "    # Extract text data from the <TEXT> element\n",
        "    text_data = record.find('TEXT').text.strip()\n",
        "\n",
        "    # Append data to the respective lists\n",
        "    record_list.append({'Record_ID': record_id})\n",
        "    text_list.append(text_data)\n",
        "\n",
        "# Create DataFrames\n",
        "record_df = pd.DataFrame(record_list)\n",
        "text_df = pd.DataFrame({'Text': text_list})\n",
        "\n",
        "# Concatenate DataFrames\n",
        "smoking_status_test_df = pd.concat([record_df, text_df], axis=1)\n",
        "\n",
        "# Display the resulting DataFrame\n",
        "print(smoking_status_test_df)\n"
      ]
    },
    {
      "cell_type": "markdown",
      "metadata": {
        "id": "a4hB0Wjq6QJ9"
      },
      "source": [
        "### Importing Testing Data with Labels"
      ]
    },
    {
      "cell_type": "code",
      "execution_count": null,
      "metadata": {
        "id": "kWJYEdmysyPm"
      },
      "outputs": [],
      "source": [
        "#Yuktha\n",
        "smoking_status_test_with_labels_file = \"/content/drive/MyDrive/HIDS 6001 Project/Dataset/smoking_status_test_with_labels.xml\""
      ]
    },
    {
      "cell_type": "code",
      "execution_count": null,
      "metadata": {
        "colab": {
          "base_uri": "https://localhost:8080/"
        },
        "id": "FSz6paJe63VJ",
        "outputId": "2ab025f5-a03d-4d8b-9b6c-944e9c371434"
      },
      "outputs": [
        {
          "output_type": "stream",
          "name": "stdout",
          "text": [
            "    Record_ID  Smoking_Status  \\\n",
            "0         660     PAST SMOKER   \n",
            "1         845  CURRENT SMOKER   \n",
            "2         515  CURRENT SMOKER   \n",
            "3         562  CURRENT SMOKER   \n",
            "4         633  CURRENT SMOKER   \n",
            "..        ...             ...   \n",
            "99        487         UNKNOWN   \n",
            "100       488         UNKNOWN   \n",
            "101       492         UNKNOWN   \n",
            "102       493         UNKNOWN   \n",
            "103       500         UNKNOWN   \n",
            "\n",
            "                                                  Text  \n",
            "0    156406283\\nHLGMC\\n7213645\\n64723/51cy\\n5/28/19...  \n",
            "1    487197293\\nPUOMC\\n2466262\\n408602\\n1976045\\n4/...  \n",
            "2    176318078\\nFIH\\n4189699\\n28872/d70h\\n094756\\n1...  \n",
            "3    245096078\\nFIH\\n9174858\\n12/February\\n997359\\n...  \n",
            "4    237073320\\nFIH\\n9746390\\n797120\\n251605\\n01/26...  \n",
            "..                                                 ...  \n",
            "99   178557034 RWH\\n6914544\\n174533\\n944266\\n12/16/...  \n",
            "100  522011500 ELMVH\\n98638774\\n324573\\n7/28/2000 1...  \n",
            "101  020916369 ELMVH\\n07813686\\n4888155\\n06/21/2004...  \n",
            "102  888428725 RWH\\n0712675\\n695770\\n6153969\\n11/4/...  \n",
            "103  844970557 RWH\\n4822461\\n736093\\n8962225\\n11/16...  \n",
            "\n",
            "[104 rows x 3 columns]\n"
          ]
        }
      ],
      "source": [
        "import xml.etree.ElementTree as ET\n",
        "import pandas as pd\n",
        "\n",
        "# Parse the XML file\n",
        "tree = ET.parse(smoking_status_test_with_labels_file)\n",
        "root = tree.getroot()\n",
        "\n",
        "# Define lists to store data\n",
        "record_list = []\n",
        "text_list = []\n",
        "\n",
        "# Extract data from XML\n",
        "for record in root.findall('RECORD'):\n",
        "    record_id = record.get('ID')\n",
        "    smoking_status = record.find('SMOKING').get('STATUS')\n",
        "\n",
        "    # Extract text data from the <TEXT> element\n",
        "    text_data = record.find('TEXT').text.strip()\n",
        "\n",
        "    # Append data to the respective lists\n",
        "    record_list.append({'Record_ID': record_id, 'Smoking_Status': smoking_status})\n",
        "    text_list.append(text_data)\n",
        "\n",
        "# Create DataFrames\n",
        "record_df = pd.DataFrame(record_list)\n",
        "text_df = pd.DataFrame({'Text': text_list})\n",
        "\n",
        "# Concatenate DataFrames\n",
        "smoking_status_test_labels_df = pd.concat([record_df, text_df], axis=1)\n",
        "\n",
        "# Display the resulting DataFrame\n",
        "print(smoking_status_test_labels_df)\n"
      ]
    },
    {
      "cell_type": "markdown",
      "metadata": {
        "id": "7yqAZXA5VEu-"
      },
      "source": [
        "# Step Two: Create Reduced Text Column"
      ]
    },
    {
      "cell_type": "markdown",
      "metadata": {
        "id": "XX4CNuniA7TB"
      },
      "source": [
        "### 1. Packages"
      ]
    },
    {
      "cell_type": "code",
      "execution_count": 1,
      "metadata": {
        "colab": {
          "base_uri": "https://localhost:8080/"
        },
        "id": "LAyTfzlWWIWV",
        "outputId": "21f22d69-24e3-4c47-e8f3-ac67152ba7ae"
      },
      "outputs": [
        {
          "output_type": "stream",
          "name": "stderr",
          "text": [
            "[nltk_data] Downloading package punkt to /root/nltk_data...\n",
            "[nltk_data]   Unzipping tokenizers/punkt.zip.\n"
          ]
        }
      ],
      "source": [
        "import nltk\n",
        "nltk.download('punkt')\n",
        "from nltk.tokenize import word_tokenize\n",
        "from nltk.tokenize import sent_tokenize\n",
        "import re"
      ]
    },
    {
      "cell_type": "markdown",
      "metadata": {
        "id": "_QZUAIE5A5Ym"
      },
      "source": [
        "### 2. Function for reducing"
      ]
    },
    {
      "cell_type": "markdown",
      "metadata": {
        "id": "SuywUKh8V-hJ"
      },
      "source": [
        "Identifying sentences containing keywords associated with smoking from a given text:\n",
        "\n",
        " **1) Regular Expression (smoking_patt):**\n",
        "\n",
        "Defines a regular expression pattern (smoking_patt) that matches words related to smoking such as \"smoke,\" \"cigarette,\" \"cigars,\" \"pipes,\" \"tobacco,\" and \"nicotine.\"\n",
        "\n",
        " **2) Function get_reduced_text(text):**\n",
        "\n",
        "Takes the text as an input and check wether it's empty or not. Tokenizes the line into sentences using sent_tokenize from NLTK. Searches for sentences that match the smoking-related pattern (smoking_patt) using re.search.\n",
        "\n",
        "If a sentence contains a match, it adds that sentence to the sents list.\n",
        "If no sentences match the pattern, it returns the string \"no relevant info.\"\n",
        "If there are matching sentences, it returns these sentences joined by newline characters.\n"
      ]
    },
    {
      "cell_type": "code",
      "execution_count": 2,
      "metadata": {
        "id": "KOCKARgsVQls"
      },
      "outputs": [],
      "source": [
        "smoking_patt = r'\\b(smok[a-z]+|ciggaretes?|cigars?|pipes?|packs?|tobaccos?|nicotine)\\b'\n",
        "def get_reduced_text(text):\n",
        "  sents = []\n",
        "  if not text or text == \"\":\n",
        "    return None\n",
        "  lines = text.splitlines()\n",
        "  for line in lines:\n",
        "    line = line.strip()\n",
        "    line_sents = sent_tokenize(line)\n",
        "    for line_sent in line_sents:\n",
        "      if re.search(smoking_patt, line_sent, re.I|re.M): sents.append(line_sent)\n",
        "  if not sents: return \"no relevnt info\"\n",
        "  return \"\\n\".join(sents)"
      ]
    },
    {
      "cell_type": "markdown",
      "metadata": {
        "id": "VKvQORqu-mKy"
      },
      "source": [
        "Training Set"
      ]
    },
    {
      "cell_type": "code",
      "execution_count": 3,
      "metadata": {
        "id": "f5ujbpqXVme-",
        "colab": {
          "base_uri": "https://localhost:8080/",
          "height": 146
        },
        "outputId": "f1e93af4-3fe8-4928-cd91-7d1480b727f9"
      },
      "outputs": [
        {
          "output_type": "error",
          "ename": "NameError",
          "evalue": "name 'smoking_status_train_df' is not defined",
          "traceback": [
            "\u001b[0;31m---------------------------------------------------------------------------\u001b[0m",
            "\u001b[0;31mNameError\u001b[0m                                 Traceback (most recent call last)",
            "\u001b[0;32m<ipython-input-3-de01134658aa>\u001b[0m in \u001b[0;36m<cell line: 1>\u001b[0;34m()\u001b[0m\n\u001b[0;32m----> 1\u001b[0;31m \u001b[0msmoking_status_train_df\u001b[0m\u001b[0;34m[\u001b[0m\u001b[0;34m'Reduced Text'\u001b[0m\u001b[0;34m]\u001b[0m \u001b[0;34m=\u001b[0m \u001b[0msmoking_status_train_df\u001b[0m\u001b[0;34m[\u001b[0m\u001b[0;34m'Text'\u001b[0m\u001b[0;34m]\u001b[0m\u001b[0;34m.\u001b[0m\u001b[0mapply\u001b[0m\u001b[0;34m(\u001b[0m\u001b[0mget_reduced_text\u001b[0m\u001b[0;34m)\u001b[0m\u001b[0;34m\u001b[0m\u001b[0;34m\u001b[0m\u001b[0m\n\u001b[0m",
            "\u001b[0;31mNameError\u001b[0m: name 'smoking_status_train_df' is not defined"
          ]
        }
      ],
      "source": [
        "smoking_status_train_df['Reduced Text'] = smoking_status_train_df['Text'].apply(get_reduced_text)"
      ]
    },
    {
      "cell_type": "markdown",
      "metadata": {
        "id": "gecDecyy-opC"
      },
      "source": [
        " Test Set"
      ]
    },
    {
      "cell_type": "code",
      "execution_count": null,
      "metadata": {
        "id": "GRE4VjOO-sMh"
      },
      "outputs": [],
      "source": [
        "smoking_status_test_df['Reduced Text'] = smoking_status_test_df['Text'].apply(get_reduced_text)"
      ]
    },
    {
      "cell_type": "markdown",
      "metadata": {
        "id": "8bmB2SK_6VUe"
      },
      "source": [
        "Shapes"
      ]
    },
    {
      "cell_type": "code",
      "execution_count": null,
      "metadata": {
        "id": "mndl6Ol_vR8E"
      },
      "outputs": [],
      "source": [
        "print(smoking_status_train_df.shape)\n",
        "print(smoking_status_test_df.shape)"
      ]
    },
    {
      "cell_type": "markdown",
      "metadata": {
        "id": "sYMd5iapBGaf"
      },
      "source": [
        "### 3. Check for NA Values\n"
      ]
    },
    {
      "cell_type": "code",
      "execution_count": null,
      "metadata": {
        "id": "Ctnpi0TEXart"
      },
      "outputs": [],
      "source": [
        "# Check if there are any missing values in the DataFrame\n",
        "missing_values = smoking_status_train_df.isnull().values.any()\n",
        "\n",
        "if missing_values:\n",
        "    print(\"There are missing values in the DataFrame.\")\n",
        "else:\n",
        "    print(\"No missing values found.\")\n"
      ]
    },
    {
      "cell_type": "markdown",
      "metadata": {
        "id": "ggCYp1XEgMUl"
      },
      "source": [
        "# Model One: MultinomialNB\n",
        "\n",
        "\n"
      ]
    },
    {
      "cell_type": "markdown",
      "metadata": {
        "id": "DiuQ2xTdYZ03"
      },
      "source": [
        "The approach of using a pipeline with TF-IDF vectorization and a Multinomial Naive Bayes classifier, combined with grid search for hyperparameter tuning, offers several advantages in text classification tasks like predicting smoking status from clinical notes. It combines preprocessing steps (TF-IDF) with a classification model (Naive Bayes) in a structured manner, optimizing their parameters using grid search."
      ]
    },
    {
      "cell_type": "markdown",
      "metadata": {
        "id": "Uwt4i3k8dAdB"
      },
      "source": [
        "### 1. Import Libraries"
      ]
    },
    {
      "cell_type": "code",
      "execution_count": 4,
      "metadata": {
        "id": "Sb_TjEStcQGb"
      },
      "outputs": [],
      "source": [
        "from sklearn.feature_extraction.text import TfidfVectorizer\n",
        "from sklearn.model_selection import GridSearchCV\n",
        "from sklearn.pipeline import Pipeline\n",
        "from sklearn.naive_bayes import MultinomialNB\n",
        "from sklearn.model_selection import GridSearchCV\n",
        "from sklearn.model_selection import train_test_split"
      ]
    },
    {
      "cell_type": "markdown",
      "metadata": {
        "id": "0Ir5-6K9dI7L"
      },
      "source": [
        "### 2. Set parameters\n",
        "\n",
        "The grid search will iterate through different combinations of the following parameters to find the best set of hyperparameters that optimize the model's performance, considering various n-gram ranges, IDF usage, and alpha values for the classifier. Adjusting these parameters can significantly impact the model's accuracy and generalization to unseen data.\n",
        "\n",
        "*   Pipeline should be tested with three different n-gram ranges (unigrams, bigrams, and trigrams)\n",
        "\n",
        "*   Decide whether to enable the use of inverse document frequency in the TF-IDF transformation\n",
        "\n",
        "*   Test with two different values for the smoothing parameter: 0.01 (1e-2) and 0.001 (1e-3).\n",
        "\n",
        "\n",
        "\n",
        "\n"
      ]
    },
    {
      "cell_type": "code",
      "execution_count": 5,
      "metadata": {
        "id": "98_1LR_ngYRj"
      },
      "outputs": [],
      "source": [
        "parameters = {\n",
        "    'tfidf__ngram_range': [(1, 1), (1, 2), (1, 3)],\n",
        "    'tfidf__use_idf': (True, False),\n",
        "    'clf__alpha': (1e-2, 1e-3),\n",
        "}"
      ]
    },
    {
      "cell_type": "markdown",
      "metadata": {
        "id": "YXVGH74KemYz"
      },
      "source": [
        "### 3. Create Pipline\n",
        "*   TfidVectorizer: is used to convert raw text data into TF-IDF features. It includes tokenization (breaking text into words or tokens) and computes TF-IDF values for each token.\n",
        "*   TfidfTransformer: tranforms matrix so that values in matrix represent the importance of each term.\n",
        "*   MultinomialNB: Used to classify the text data into different categories (is a Naive Bayes classifier)."
      ]
    },
    {
      "cell_type": "code",
      "execution_count": 6,
      "metadata": {
        "id": "FfFDGVWFgzhc"
      },
      "outputs": [],
      "source": [
        "text_clf = Pipeline([\n",
        "    ('tfidf', TfidfVectorizer()),  # TfidfVectorizer includes tokenization and TF-IDF transformation\n",
        "    ('clf', MultinomialNB()),\n",
        "])"
      ]
    },
    {
      "cell_type": "markdown",
      "metadata": {
        "id": "Ce1HmpFXjKTr"
      },
      "source": [
        "### 4. Specify x_train and y_train"
      ]
    },
    {
      "cell_type": "markdown",
      "metadata": {
        "id": "SVK2QdAdAmhP"
      },
      "source": [
        "Non-reduced text"
      ]
    },
    {
      "cell_type": "code",
      "execution_count": 7,
      "metadata": {
        "id": "n1lGd4gehqIx",
        "colab": {
          "base_uri": "https://localhost:8080/",
          "height": 182
        },
        "outputId": "29c1fae3-e0ab-4f8f-e923-a1a3a666f5f9"
      },
      "outputs": [
        {
          "output_type": "error",
          "ename": "NameError",
          "evalue": "name 'clf' is not defined",
          "traceback": [
            "\u001b[0;31m---------------------------------------------------------------------------\u001b[0m",
            "\u001b[0;31mNameError\u001b[0m                                 Traceback (most recent call last)",
            "\u001b[0;32m<ipython-input-7-99cfa44c6c0c>\u001b[0m in \u001b[0;36m<cell line: 1>\u001b[0;34m()\u001b[0m\n\u001b[0;32m----> 1\u001b[0;31m \u001b[0mclf\u001b[0m\u001b[0;31m# X values is text and y values are smoking status\u001b[0m\u001b[0;34m\u001b[0m\u001b[0;34m\u001b[0m\u001b[0m\n\u001b[0m\u001b[1;32m      2\u001b[0m \u001b[0mX_train\u001b[0m \u001b[0;34m=\u001b[0m \u001b[0msmoking_status_train_df\u001b[0m\u001b[0;34m[\u001b[0m\u001b[0;34m'Text'\u001b[0m\u001b[0;34m]\u001b[0m\u001b[0;34m.\u001b[0m\u001b[0mvalues\u001b[0m\u001b[0;34m\u001b[0m\u001b[0;34m\u001b[0m\u001b[0m\n\u001b[1;32m      3\u001b[0m \u001b[0my_train\u001b[0m \u001b[0;34m=\u001b[0m \u001b[0msmoking_status_train_df\u001b[0m\u001b[0;34m[\u001b[0m\u001b[0;34m'Smoking_Status'\u001b[0m\u001b[0;34m]\u001b[0m\u001b[0;34m.\u001b[0m\u001b[0mvalues\u001b[0m\u001b[0;34m\u001b[0m\u001b[0;34m\u001b[0m\u001b[0m\n",
            "\u001b[0;31mNameError\u001b[0m: name 'clf' is not defined"
          ]
        }
      ],
      "source": [
        "clf# X values is text and y values are smoking status\n",
        "X_train = smoking_status_train_df['Text'].values\n",
        "y_train = smoking_status_train_df['Smoking_Status'].values"
      ]
    },
    {
      "cell_type": "markdown",
      "metadata": {
        "id": "S-9WaiX0_CuW"
      },
      "source": [
        "Reduced text"
      ]
    },
    {
      "cell_type": "code",
      "execution_count": null,
      "metadata": {
        "id": "v53Ao0DBToNi"
      },
      "outputs": [],
      "source": [
        "X_train_red = smoking_status_train_df['Reduced Text'].values\n",
        "y_train_red = smoking_status_train_df['Smoking_Status'].values"
      ]
    },
    {
      "cell_type": "markdown",
      "metadata": {
        "id": "bkfTc0DVh7sO"
      },
      "source": [
        "### 5. Grid Search\n",
        "\n",
        "*   GridSearchCV: performs an exhaustive grid search over a specified parameter grid within the pipeline, evaluating the performance of the model for each combination of hyperparameters using cross-validation.\n",
        "*   text_clf: pipline defined earlier\n",
        "*   parameters: defined earlier\n",
        "*   cv = 5: the number of folds in the cross-validation. The model will be trained and evaluated five times, each time using a different fold as the test set\n",
        "*   n_jobs=-1: grid search should use all available CPU cores for parallel computation"
      ]
    },
    {
      "cell_type": "markdown",
      "metadata": {
        "id": "AjYhNMcEjU26"
      },
      "source": [
        "### 6. Find the best parameters"
      ]
    },
    {
      "cell_type": "code",
      "execution_count": null,
      "metadata": {
        "id": "VtwpHNZ3cDlV"
      },
      "outputs": [],
      "source": [
        "# Grid search for non-reduced data\n",
        "grid_search_non_reduced = GridSearchCV(text_clf, parameters, cv=5, n_jobs=-1, scoring='accuracy')\n",
        "MB_non_reduced_parms = grid_search_non_reduced.fit(X_train, y_train)\n",
        "\n",
        "print(\"Best parameters found for non-reduced data: \", MB_non_reduced_parms.best_params_)\n",
        "\n",
        "# Grid search for reduced data\n",
        "grid_search_reduced = GridSearchCV(text_clf, parameters, cv=5, n_jobs=-1, scoring='accuracy')\n",
        "MB_reduced_parms = grid_search_reduced.fit(X_train_red, y_train_red)\n",
        "\n",
        "print(\"Best parameters found for reduced data: \", MB_reduced_parms.best_params_)\n",
        "\n",
        "# Use the best parameters\n",
        "best_params_red = MB_reduced_parms.best_params_\n"
      ]
    },
    {
      "cell_type": "markdown",
      "metadata": {
        "id": "3qsWS7rLjgQH"
      },
      "source": [
        "### 7. Train the model using the best parameters"
      ]
    },
    {
      "cell_type": "markdown",
      "metadata": {
        "id": "gSr-QmlzbGAJ"
      },
      "source": [
        "This approach retrieves the best TF-IDF vectorizer and classifier as part of the best estimator obtained from the grid search and constructs the final pipeline (final_text_clf) using these components. Then, it trains the final model on the entire training dataset (X_train_red and y_train_red)."
      ]
    },
    {
      "cell_type": "markdown",
      "metadata": {
        "id": "orfjitc4PDAC"
      },
      "source": [
        "Non-reduced"
      ]
    },
    {
      "cell_type": "code",
      "execution_count": null,
      "metadata": {
        "id": "i7fo2_UAOR4h"
      },
      "outputs": [],
      "source": [
        "# Final pipeline with the best hyperparameters for non-reduced data\n",
        "best_params_nonred = MB_non_reduced_parms.best_params_\n",
        "final_text_clf_nonred = Pipeline([\n",
        "    ('tfidf', TfidfVectorizer(ngram_range=best_params_Nonred['tfidf__ngram_range'], use_idf=best_params_nonred['tfidf__use_idf'])),\n",
        "    ('clf', MultinomialNB(alpha=best_params_nonred['clf__alpha'])),\n",
        "])\n",
        "\n",
        "# Train the final model on the entire training dataset\n",
        "final_text_clf_nonred.fit(X_train, y_train)\n",
        "\n"
      ]
    },
    {
      "cell_type": "markdown",
      "metadata": {
        "id": "2BXqP-7U4JVG"
      },
      "source": [
        "Reduced"
      ]
    },
    {
      "cell_type": "code",
      "execution_count": null,
      "metadata": {
        "id": "1xnNWnfN64T-"
      },
      "outputs": [],
      "source": [
        "# Final pipeline with the best hyperparameters\n",
        "final_text_clf_red = Pipeline([\n",
        "    ('tfidf', TfidfVectorizer(ngram_range=best_params_red['tfidf__ngram_range'], use_idf=best_params_red['tfidf__use_idf'])),\n",
        "    ('clf', MultinomialNB(alpha=best_params_red['clf__alpha'])),\n",
        "])\n",
        "\n",
        "# Train the final model on the entire training dataset\n",
        "final_text_clf_red.fit(X_train_red, y_train_red)\n",
        "\n"
      ]
    },
    {
      "cell_type": "markdown",
      "metadata": {
        "id": "NiD7pwjGjv70"
      },
      "source": [
        "### 8. Make predictions on test set"
      ]
    },
    {
      "cell_type": "markdown",
      "metadata": {
        "id": "Kbm3XsDV9f7r"
      },
      "source": [
        "Non-Reduced"
      ]
    },
    {
      "cell_type": "code",
      "execution_count": null,
      "metadata": {
        "id": "BWeL2ToIG7qM"
      },
      "outputs": [],
      "source": [
        "X_test_nonred = smoking_status_test_df['Text'].values\n",
        "\n",
        "# making predictions on the test set\n",
        "predicted_test_nonred = final_text_clf_nonred.predict(X_test_nonred)\n",
        "predicted_test_nonred"
      ]
    },
    {
      "cell_type": "code",
      "execution_count": null,
      "metadata": {
        "id": "9UJohYae5Env"
      },
      "outputs": [],
      "source": [
        "X_test_red = smoking_status_test_df['Reduced Text'].values\n",
        "\n",
        "# making predictions on the test set\n",
        "predicted_test_red = final_text_clf_red.predict(X_test_red)\n",
        "predicted_test_red"
      ]
    },
    {
      "cell_type": "markdown",
      "metadata": {
        "id": "RjOsja2Udf8j"
      },
      "source": [
        "### Accuracy"
      ]
    },
    {
      "cell_type": "markdown",
      "metadata": {
        "id": "fefMR7PWdf8j"
      },
      "source": [
        "#### Best Parameters"
      ]
    },
    {
      "cell_type": "markdown",
      "metadata": {
        "id": "DmSyIUyR0awm"
      },
      "source": [
        "Non-reduced"
      ]
    },
    {
      "cell_type": "code",
      "execution_count": null,
      "metadata": {
        "id": "s2_4rk6Vdf8j"
      },
      "outputs": [],
      "source": [
        "# need answers from test set to do this (smoking status)\n",
        "from sklearn.metrics import accuracy_score, classification_report\n",
        "\n",
        "true_labels_test = smoking_status_test_labels_df['Smoking_Status'].values\n",
        "\n",
        "# accuracy\n",
        "accuracy = accuracy_score(true_labels_test, predicted_test_nonred)\n",
        "print(f'Accuracy on the non-reduced test set: {accuracy:.2%}')\n",
        "\n",
        "# classification report\n",
        "print(classification_report(true_labels_test, predicted_test_nonred))"
      ]
    },
    {
      "cell_type": "code",
      "execution_count": null,
      "metadata": {
        "id": "I8NgBmtn8ZoC"
      },
      "outputs": [],
      "source": [
        "# need answers from test set to do this (smoking status)\n",
        "from sklearn.metrics import accuracy_score, classification_report\n",
        "\n",
        "true_labels_test = smoking_status_test_labels_df['Smoking_Status'].values\n",
        "\n",
        "# accuracy\n",
        "accuracy = accuracy_score(true_labels_test, predicted_test_red)\n",
        "print(f'Accuracy on the reduced test set: {accuracy:.2%}')\n",
        "\n",
        "# classification report\n",
        "print(classification_report(true_labels_test, predicted_test_red))"
      ]
    },
    {
      "cell_type": "markdown",
      "metadata": {
        "id": "eOm8LT1o0kW7"
      },
      "source": [
        "### PLAY AROUND WITH PARAMETERS"
      ]
    },
    {
      "cell_type": "code",
      "execution_count": null,
      "metadata": {
        "id": "30ahOSsch4Sq"
      },
      "outputs": [],
      "source": [
        "# TEST NON REDUCED (can change parameters)\n",
        "final_text_clf_nonred_temp = Pipeline([\n",
        "    ('tfidf', TfidfVectorizer(ngram_range=(1,3), use_idf=False)),\n",
        "    ('clf', MultinomialNB(alpha=1e-2)),\n",
        "])\n",
        "\n",
        "final_text_clf_nonred_temp.fit(X_train, y_train)\n"
      ]
    },
    {
      "cell_type": "code",
      "execution_count": null,
      "metadata": {
        "id": "Y8VtgvxVjCQl"
      },
      "outputs": [],
      "source": [
        "# TEST REDUCED\n",
        "final_text_clf_red_temp = Pipeline([\n",
        "    ('tfidf', TfidfVectorizer(ngram_range=(1,1), use_idf=True)),\n",
        "    ('clf', MultinomialNB(alpha=.001)),\n",
        "])\n",
        "final_text_clf_red_temp.fit(X_train_red, y_train_red)\n"
      ]
    },
    {
      "cell_type": "code",
      "execution_count": null,
      "metadata": {
        "id": "MLcruWcIj2DO"
      },
      "outputs": [],
      "source": [
        "# TRAIN NON-REDUCED\n",
        "X_test_temp = smoking_status_test_df['Text'].values\n",
        "\n",
        "predicted_test_temp = final_text_clf_nonred_temp.predict(X_test_temp)\n",
        "predicted_test_temp"
      ]
    },
    {
      "cell_type": "code",
      "execution_count": null,
      "metadata": {
        "id": "Jll3Qykhj2DV"
      },
      "outputs": [],
      "source": [
        "# TRAIN REDUCED\n",
        "X_test_red_temp = smoking_status_test_df['Reduced Text'].values\n",
        "\n",
        "# making predictions on the test set\n",
        "predicted_test_red_temp = final_text_clf_red_temp.predict(X_test_red_temp)\n",
        "predicted_test_red_temp"
      ]
    },
    {
      "cell_type": "code",
      "execution_count": null,
      "metadata": {
        "id": "r7srYG0ej2DV"
      },
      "outputs": [],
      "source": [
        "# Accuracy Non-reduced\n",
        "\n",
        "from sklearn.metrics import accuracy_score, classification_report\n",
        "\n",
        "true_labels_test = smoking_status_test_labels_df['Smoking_Status'].values\n",
        "\n",
        "# accuracy\n",
        "accuracy = accuracy_score(true_labels_test, predicted_test_temp)\n",
        "print(f'Accuracy on the non-reduced test set: {accuracy:.2%}')\n",
        "\n",
        "# classification report\n",
        "print(classification_report(true_labels_test, predicted_test_temp))"
      ]
    },
    {
      "cell_type": "code",
      "execution_count": null,
      "metadata": {
        "id": "MvTyNUAKj2DV"
      },
      "outputs": [],
      "source": [
        "# Accuracy Reduced\n",
        "# need answers from test set to do this (smoking status)\n",
        "from sklearn.metrics import accuracy_score, classification_report\n",
        "\n",
        "true_labels_test = smoking_status_test_labels_df['Smoking_Status'].values\n",
        "\n",
        "# accuracy\n",
        "accuracy = accuracy_score(true_labels_test, predicted_test_red_temp)\n",
        "print(f'Accuracy on the reduced test set: {accuracy:.2%}')\n",
        "\n",
        "# classification report\n",
        "print(classification_report(true_labels_test, predicted_test_red_temp))"
      ]
    },
    {
      "cell_type": "markdown",
      "metadata": {
        "id": "Zms-_41bczY5"
      },
      "source": [
        "# Model Two: Logistic regression"
      ]
    },
    {
      "cell_type": "code",
      "execution_count": null,
      "metadata": {
        "id": "Xrhaq7ShczZB"
      },
      "outputs": [],
      "source": [
        "from sklearn.linear_model import LogisticRegression\n",
        "from sklearn.feature_extraction.text import TfidfVectorizer\n",
        "from sklearn.model_selection import GridSearchCV\n",
        "from sklearn.pipeline import Pipeline\n",
        "from sklearn.model_selection import GridSearchCV\n",
        "from sklearn.model_selection import train_test_split\n",
        "\n",
        "# Set parameters\n",
        "parameters = {\n",
        "    'tfidf__ngram_range': [(1, 1), (1, 2), (1, 3)],\n",
        "    'tfidf__use_idf': (True, False),\n",
        "    'clf__C': [0.001, 0.01, 0.1, 1, 10, 100],\n",
        "}\n",
        "\n",
        "# Pipeline (this time with logistic regression)\n",
        "text_clf = Pipeline([\n",
        "    ('tfidf', TfidfVectorizer()),\n",
        "    ('clf', LogisticRegression(max_iter=1000)),\n",
        "])\n"
      ]
    },
    {
      "cell_type": "markdown",
      "metadata": {
        "id": "jlIRRyb-FKPo"
      },
      "source": [
        "## Find the best parameters"
      ]
    },
    {
      "cell_type": "code",
      "execution_count": null,
      "metadata": {
        "id": "Vl73ricLEDoG"
      },
      "outputs": [],
      "source": [
        "# X values are text and y values are smoking status\n",
        "X_train = smoking_status_train_df['Text'].values\n",
        "y_train = smoking_status_train_df['Smoking_Status'].values"
      ]
    },
    {
      "cell_type": "code",
      "execution_count": null,
      "metadata": {
        "id": "P21uoYkDEFr5"
      },
      "outputs": [],
      "source": [
        "# X values are text and y values are smoking status\n",
        "X_train_red = smoking_status_train_df['Reduced Text'].values\n",
        "y_train_red = smoking_status_train_df['Smoking_Status'].values"
      ]
    },
    {
      "cell_type": "code",
      "execution_count": null,
      "metadata": {
        "id": "-wMegnjk35HZ",
        "colab": {
          "base_uri": "https://localhost:8080/"
        },
        "outputId": "74ddbc45-9d3f-457a-fdb3-9776384b9f10"
      },
      "outputs": [
        {
          "output_type": "stream",
          "name": "stdout",
          "text": [
            "Best parameters found for non-reduced data:  {'clf__C': 10, 'tfidf__ngram_range': (1, 2), 'tfidf__use_idf': False}\n",
            "Best parameters found for reduced data:  {'clf__C': 100, 'tfidf__ngram_range': (1, 3), 'tfidf__use_idf': True}\n"
          ]
        }
      ],
      "source": [
        "# Grid search for non-reduced data\n",
        "grid_search_non_reduced = GridSearchCV(text_clf, parameters, cv=5, n_jobs=-1, scoring='accuracy')\n",
        "LR_non_reduced_parms = grid_search_non_reduced.fit(X_train, y_train)\n",
        "\n",
        "# Print the best parameters found for the non-reduced data\n",
        "print(\"Best parameters found for non-reduced data: \", LR_non_reduced_parms.best_params_)\n",
        "\n",
        "# Grid search for reduced data\n",
        "grid_search_reduced = GridSearchCV(text_clf, parameters, cv=5, n_jobs=-1, scoring='accuracy')\n",
        "LR_reduced_parms = grid_search_reduced.fit(X_train_red, y_train_red)\n",
        "\n",
        "# Print the best parameters found for the reduced data\n",
        "print(\"Best parameters found for reduced data: \", LR_reduced_parms.best_params_)\n"
      ]
    },
    {
      "cell_type": "markdown",
      "metadata": {
        "id": "C7GHH4-dFB9y"
      },
      "source": [
        "## Train the model using the best parameters"
      ]
    },
    {
      "cell_type": "markdown",
      "metadata": {
        "id": "qwkU4QGZEvCS"
      },
      "source": [
        "#### Non reduced"
      ]
    },
    {
      "cell_type": "code",
      "execution_count": null,
      "metadata": {
        "id": "uptL4pHDEf4t",
        "colab": {
          "base_uri": "https://localhost:8080/",
          "height": 125
        },
        "outputId": "352d6185-8e35-4a31-bf1d-7cc2f42ab86f"
      },
      "outputs": [
        {
          "output_type": "execute_result",
          "data": {
            "text/plain": [
              "Pipeline(steps=[('tfidf', TfidfVectorizer(ngram_range=(1, 2), use_idf=False)),\n",
              "                ('clf', LogisticRegression(C=10, max_iter=1000))])"
            ],
            "text/html": [
              "<style>#sk-container-id-5 {color: black;background-color: white;}#sk-container-id-5 pre{padding: 0;}#sk-container-id-5 div.sk-toggleable {background-color: white;}#sk-container-id-5 label.sk-toggleable__label {cursor: pointer;display: block;width: 100%;margin-bottom: 0;padding: 0.3em;box-sizing: border-box;text-align: center;}#sk-container-id-5 label.sk-toggleable__label-arrow:before {content: \"▸\";float: left;margin-right: 0.25em;color: #696969;}#sk-container-id-5 label.sk-toggleable__label-arrow:hover:before {color: black;}#sk-container-id-5 div.sk-estimator:hover label.sk-toggleable__label-arrow:before {color: black;}#sk-container-id-5 div.sk-toggleable__content {max-height: 0;max-width: 0;overflow: hidden;text-align: left;background-color: #f0f8ff;}#sk-container-id-5 div.sk-toggleable__content pre {margin: 0.2em;color: black;border-radius: 0.25em;background-color: #f0f8ff;}#sk-container-id-5 input.sk-toggleable__control:checked~div.sk-toggleable__content {max-height: 200px;max-width: 100%;overflow: auto;}#sk-container-id-5 input.sk-toggleable__control:checked~label.sk-toggleable__label-arrow:before {content: \"▾\";}#sk-container-id-5 div.sk-estimator input.sk-toggleable__control:checked~label.sk-toggleable__label {background-color: #d4ebff;}#sk-container-id-5 div.sk-label input.sk-toggleable__control:checked~label.sk-toggleable__label {background-color: #d4ebff;}#sk-container-id-5 input.sk-hidden--visually {border: 0;clip: rect(1px 1px 1px 1px);clip: rect(1px, 1px, 1px, 1px);height: 1px;margin: -1px;overflow: hidden;padding: 0;position: absolute;width: 1px;}#sk-container-id-5 div.sk-estimator {font-family: monospace;background-color: #f0f8ff;border: 1px dotted black;border-radius: 0.25em;box-sizing: border-box;margin-bottom: 0.5em;}#sk-container-id-5 div.sk-estimator:hover {background-color: #d4ebff;}#sk-container-id-5 div.sk-parallel-item::after {content: \"\";width: 100%;border-bottom: 1px solid gray;flex-grow: 1;}#sk-container-id-5 div.sk-label:hover label.sk-toggleable__label {background-color: #d4ebff;}#sk-container-id-5 div.sk-serial::before {content: \"\";position: absolute;border-left: 1px solid gray;box-sizing: border-box;top: 0;bottom: 0;left: 50%;z-index: 0;}#sk-container-id-5 div.sk-serial {display: flex;flex-direction: column;align-items: center;background-color: white;padding-right: 0.2em;padding-left: 0.2em;position: relative;}#sk-container-id-5 div.sk-item {position: relative;z-index: 1;}#sk-container-id-5 div.sk-parallel {display: flex;align-items: stretch;justify-content: center;background-color: white;position: relative;}#sk-container-id-5 div.sk-item::before, #sk-container-id-5 div.sk-parallel-item::before {content: \"\";position: absolute;border-left: 1px solid gray;box-sizing: border-box;top: 0;bottom: 0;left: 50%;z-index: -1;}#sk-container-id-5 div.sk-parallel-item {display: flex;flex-direction: column;z-index: 1;position: relative;background-color: white;}#sk-container-id-5 div.sk-parallel-item:first-child::after {align-self: flex-end;width: 50%;}#sk-container-id-5 div.sk-parallel-item:last-child::after {align-self: flex-start;width: 50%;}#sk-container-id-5 div.sk-parallel-item:only-child::after {width: 0;}#sk-container-id-5 div.sk-dashed-wrapped {border: 1px dashed gray;margin: 0 0.4em 0.5em 0.4em;box-sizing: border-box;padding-bottom: 0.4em;background-color: white;}#sk-container-id-5 div.sk-label label {font-family: monospace;font-weight: bold;display: inline-block;line-height: 1.2em;}#sk-container-id-5 div.sk-label-container {text-align: center;}#sk-container-id-5 div.sk-container {/* jupyter's `normalize.less` sets `[hidden] { display: none; }` but bootstrap.min.css set `[hidden] { display: none !important; }` so we also need the `!important` here to be able to override the default hidden behavior on the sphinx rendered scikit-learn.org. See: https://github.com/scikit-learn/scikit-learn/issues/21755 */display: inline-block !important;position: relative;}#sk-container-id-5 div.sk-text-repr-fallback {display: none;}</style><div id=\"sk-container-id-5\" class=\"sk-top-container\"><div class=\"sk-text-repr-fallback\"><pre>Pipeline(steps=[(&#x27;tfidf&#x27;, TfidfVectorizer(ngram_range=(1, 2), use_idf=False)),\n",
              "                (&#x27;clf&#x27;, LogisticRegression(C=10, max_iter=1000))])</pre><b>In a Jupyter environment, please rerun this cell to show the HTML representation or trust the notebook. <br />On GitHub, the HTML representation is unable to render, please try loading this page with nbviewer.org.</b></div><div class=\"sk-container\" hidden><div class=\"sk-item sk-dashed-wrapped\"><div class=\"sk-label-container\"><div class=\"sk-label sk-toggleable\"><input class=\"sk-toggleable__control sk-hidden--visually\" id=\"sk-estimator-id-13\" type=\"checkbox\" ><label for=\"sk-estimator-id-13\" class=\"sk-toggleable__label sk-toggleable__label-arrow\">Pipeline</label><div class=\"sk-toggleable__content\"><pre>Pipeline(steps=[(&#x27;tfidf&#x27;, TfidfVectorizer(ngram_range=(1, 2), use_idf=False)),\n",
              "                (&#x27;clf&#x27;, LogisticRegression(C=10, max_iter=1000))])</pre></div></div></div><div class=\"sk-serial\"><div class=\"sk-item\"><div class=\"sk-estimator sk-toggleable\"><input class=\"sk-toggleable__control sk-hidden--visually\" id=\"sk-estimator-id-14\" type=\"checkbox\" ><label for=\"sk-estimator-id-14\" class=\"sk-toggleable__label sk-toggleable__label-arrow\">TfidfVectorizer</label><div class=\"sk-toggleable__content\"><pre>TfidfVectorizer(ngram_range=(1, 2), use_idf=False)</pre></div></div></div><div class=\"sk-item\"><div class=\"sk-estimator sk-toggleable\"><input class=\"sk-toggleable__control sk-hidden--visually\" id=\"sk-estimator-id-15\" type=\"checkbox\" ><label for=\"sk-estimator-id-15\" class=\"sk-toggleable__label sk-toggleable__label-arrow\">LogisticRegression</label><div class=\"sk-toggleable__content\"><pre>LogisticRegression(C=10, max_iter=1000)</pre></div></div></div></div></div></div></div>"
            ]
          },
          "metadata": {},
          "execution_count": 48
        }
      ],
      "source": [
        "# Use the best parameters (from search above)\n",
        "best_params_nonred = grid_search_non_reduced.best_params_\n",
        "\n",
        "# Create the final pipeline with the best hyperparameters\n",
        "final_text_clf_nonred = Pipeline([\n",
        "    ('tfidf', TfidfVectorizer(ngram_range=best_params_nonred['tfidf__ngram_range'], use_idf=best_params_nonred['tfidf__use_idf'])),\n",
        "    ('clf', LogisticRegression(C=best_params_nonred['clf__C'], max_iter=1000)),  # Adjust max_iter as needed\n",
        "])\n",
        "\n",
        "# Train the final model on the entire training dataset\n",
        "final_text_clf_nonred.fit(X_train, y_train)\n",
        "\n"
      ]
    },
    {
      "cell_type": "markdown",
      "metadata": {
        "id": "sJlgbcM4EyZ4"
      },
      "source": [
        "#### Reduced"
      ]
    },
    {
      "cell_type": "code",
      "execution_count": null,
      "metadata": {
        "id": "bY3hd2zYEgt7",
        "colab": {
          "base_uri": "https://localhost:8080/",
          "height": 125
        },
        "outputId": "13d2416f-c881-4c06-9aea-7eaa591a0180"
      },
      "outputs": [
        {
          "output_type": "execute_result",
          "data": {
            "text/plain": [
              "Pipeline(steps=[('tfidf', TfidfVectorizer(ngram_range=(1, 3))),\n",
              "                ('clf', LogisticRegression(C=100, max_iter=1000))])"
            ],
            "text/html": [
              "<style>#sk-container-id-6 {color: black;background-color: white;}#sk-container-id-6 pre{padding: 0;}#sk-container-id-6 div.sk-toggleable {background-color: white;}#sk-container-id-6 label.sk-toggleable__label {cursor: pointer;display: block;width: 100%;margin-bottom: 0;padding: 0.3em;box-sizing: border-box;text-align: center;}#sk-container-id-6 label.sk-toggleable__label-arrow:before {content: \"▸\";float: left;margin-right: 0.25em;color: #696969;}#sk-container-id-6 label.sk-toggleable__label-arrow:hover:before {color: black;}#sk-container-id-6 div.sk-estimator:hover label.sk-toggleable__label-arrow:before {color: black;}#sk-container-id-6 div.sk-toggleable__content {max-height: 0;max-width: 0;overflow: hidden;text-align: left;background-color: #f0f8ff;}#sk-container-id-6 div.sk-toggleable__content pre {margin: 0.2em;color: black;border-radius: 0.25em;background-color: #f0f8ff;}#sk-container-id-6 input.sk-toggleable__control:checked~div.sk-toggleable__content {max-height: 200px;max-width: 100%;overflow: auto;}#sk-container-id-6 input.sk-toggleable__control:checked~label.sk-toggleable__label-arrow:before {content: \"▾\";}#sk-container-id-6 div.sk-estimator input.sk-toggleable__control:checked~label.sk-toggleable__label {background-color: #d4ebff;}#sk-container-id-6 div.sk-label input.sk-toggleable__control:checked~label.sk-toggleable__label {background-color: #d4ebff;}#sk-container-id-6 input.sk-hidden--visually {border: 0;clip: rect(1px 1px 1px 1px);clip: rect(1px, 1px, 1px, 1px);height: 1px;margin: -1px;overflow: hidden;padding: 0;position: absolute;width: 1px;}#sk-container-id-6 div.sk-estimator {font-family: monospace;background-color: #f0f8ff;border: 1px dotted black;border-radius: 0.25em;box-sizing: border-box;margin-bottom: 0.5em;}#sk-container-id-6 div.sk-estimator:hover {background-color: #d4ebff;}#sk-container-id-6 div.sk-parallel-item::after {content: \"\";width: 100%;border-bottom: 1px solid gray;flex-grow: 1;}#sk-container-id-6 div.sk-label:hover label.sk-toggleable__label {background-color: #d4ebff;}#sk-container-id-6 div.sk-serial::before {content: \"\";position: absolute;border-left: 1px solid gray;box-sizing: border-box;top: 0;bottom: 0;left: 50%;z-index: 0;}#sk-container-id-6 div.sk-serial {display: flex;flex-direction: column;align-items: center;background-color: white;padding-right: 0.2em;padding-left: 0.2em;position: relative;}#sk-container-id-6 div.sk-item {position: relative;z-index: 1;}#sk-container-id-6 div.sk-parallel {display: flex;align-items: stretch;justify-content: center;background-color: white;position: relative;}#sk-container-id-6 div.sk-item::before, #sk-container-id-6 div.sk-parallel-item::before {content: \"\";position: absolute;border-left: 1px solid gray;box-sizing: border-box;top: 0;bottom: 0;left: 50%;z-index: -1;}#sk-container-id-6 div.sk-parallel-item {display: flex;flex-direction: column;z-index: 1;position: relative;background-color: white;}#sk-container-id-6 div.sk-parallel-item:first-child::after {align-self: flex-end;width: 50%;}#sk-container-id-6 div.sk-parallel-item:last-child::after {align-self: flex-start;width: 50%;}#sk-container-id-6 div.sk-parallel-item:only-child::after {width: 0;}#sk-container-id-6 div.sk-dashed-wrapped {border: 1px dashed gray;margin: 0 0.4em 0.5em 0.4em;box-sizing: border-box;padding-bottom: 0.4em;background-color: white;}#sk-container-id-6 div.sk-label label {font-family: monospace;font-weight: bold;display: inline-block;line-height: 1.2em;}#sk-container-id-6 div.sk-label-container {text-align: center;}#sk-container-id-6 div.sk-container {/* jupyter's `normalize.less` sets `[hidden] { display: none; }` but bootstrap.min.css set `[hidden] { display: none !important; }` so we also need the `!important` here to be able to override the default hidden behavior on the sphinx rendered scikit-learn.org. See: https://github.com/scikit-learn/scikit-learn/issues/21755 */display: inline-block !important;position: relative;}#sk-container-id-6 div.sk-text-repr-fallback {display: none;}</style><div id=\"sk-container-id-6\" class=\"sk-top-container\"><div class=\"sk-text-repr-fallback\"><pre>Pipeline(steps=[(&#x27;tfidf&#x27;, TfidfVectorizer(ngram_range=(1, 3))),\n",
              "                (&#x27;clf&#x27;, LogisticRegression(C=100, max_iter=1000))])</pre><b>In a Jupyter environment, please rerun this cell to show the HTML representation or trust the notebook. <br />On GitHub, the HTML representation is unable to render, please try loading this page with nbviewer.org.</b></div><div class=\"sk-container\" hidden><div class=\"sk-item sk-dashed-wrapped\"><div class=\"sk-label-container\"><div class=\"sk-label sk-toggleable\"><input class=\"sk-toggleable__control sk-hidden--visually\" id=\"sk-estimator-id-16\" type=\"checkbox\" ><label for=\"sk-estimator-id-16\" class=\"sk-toggleable__label sk-toggleable__label-arrow\">Pipeline</label><div class=\"sk-toggleable__content\"><pre>Pipeline(steps=[(&#x27;tfidf&#x27;, TfidfVectorizer(ngram_range=(1, 3))),\n",
              "                (&#x27;clf&#x27;, LogisticRegression(C=100, max_iter=1000))])</pre></div></div></div><div class=\"sk-serial\"><div class=\"sk-item\"><div class=\"sk-estimator sk-toggleable\"><input class=\"sk-toggleable__control sk-hidden--visually\" id=\"sk-estimator-id-17\" type=\"checkbox\" ><label for=\"sk-estimator-id-17\" class=\"sk-toggleable__label sk-toggleable__label-arrow\">TfidfVectorizer</label><div class=\"sk-toggleable__content\"><pre>TfidfVectorizer(ngram_range=(1, 3))</pre></div></div></div><div class=\"sk-item\"><div class=\"sk-estimator sk-toggleable\"><input class=\"sk-toggleable__control sk-hidden--visually\" id=\"sk-estimator-id-18\" type=\"checkbox\" ><label for=\"sk-estimator-id-18\" class=\"sk-toggleable__label sk-toggleable__label-arrow\">LogisticRegression</label><div class=\"sk-toggleable__content\"><pre>LogisticRegression(C=100, max_iter=1000)</pre></div></div></div></div></div></div></div>"
            ]
          },
          "metadata": {},
          "execution_count": 49
        }
      ],
      "source": [
        "# Use the best parameters (from search above)\n",
        "best_params_red = grid_search_reduced.best_params_\n",
        "\n",
        "# Create the final pipeline with the best hyperparameters\n",
        "final_text_clf_red = Pipeline([\n",
        "    ('tfidf', TfidfVectorizer(ngram_range=best_params_red['tfidf__ngram_range'], use_idf=best_params_red['tfidf__use_idf'])),\n",
        "    ('clf', LogisticRegression(C=best_params_red['clf__C'], max_iter=1000)),  # Adjust max_iter as needed\n",
        "])\n",
        "\n",
        "# Train the final model on the entire training dataset\n",
        "final_text_clf_red.fit(X_train_red, y_train_red)\n"
      ]
    },
    {
      "cell_type": "markdown",
      "metadata": {
        "id": "7iHWog8JENln"
      },
      "source": [
        "## Make predictions on test set"
      ]
    },
    {
      "cell_type": "markdown",
      "metadata": {
        "id": "JJuGqSzceku_"
      },
      "source": [
        "non-reduced"
      ]
    },
    {
      "cell_type": "code",
      "execution_count": null,
      "metadata": {
        "id": "-k4AwE4_czZD"
      },
      "outputs": [],
      "source": [
        "X_test = smoking_status_test_df['Text'].values\n",
        "\n",
        "# making predictions on the test set (to do later)\n",
        "predicted_test = final_text_clf_nonred.predict(X_test)"
      ]
    },
    {
      "cell_type": "markdown",
      "metadata": {
        "id": "84xN0O8Jemx-"
      },
      "source": [
        "reduced"
      ]
    },
    {
      "cell_type": "code",
      "execution_count": null,
      "metadata": {
        "id": "P05lQUciczZD"
      },
      "outputs": [],
      "source": [
        "X_test_red = smoking_status_test_df['Reduced Text'].values\n",
        "\n",
        "# making predictions on the test set (to do later)\n",
        "predicted_test_red = final_text_clf_red.predict(X_test_red)"
      ]
    },
    {
      "cell_type": "markdown",
      "metadata": {
        "id": "ukwCl1AhGUQP"
      },
      "source": [
        "## Accuracy"
      ]
    },
    {
      "cell_type": "markdown",
      "metadata": {
        "id": "4qdSYF1nGu4W"
      },
      "source": [
        " Non Reduced Text"
      ]
    },
    {
      "cell_type": "code",
      "execution_count": null,
      "metadata": {
        "id": "hqbgEU7SGa_X",
        "colab": {
          "base_uri": "https://localhost:8080/"
        },
        "outputId": "d24a7f1e-7822-4802-9ec5-b7e4ae47ebf4"
      },
      "outputs": [
        {
          "output_type": "stream",
          "name": "stdout",
          "text": [
            "Accuracy on the test set: 67.31%\n",
            "                precision    recall  f1-score   support\n",
            "\n",
            "CURRENT SMOKER       0.00      0.00      0.00        11\n",
            "    NON-SMOKER       0.48      0.62      0.54        16\n",
            "   PAST SMOKER       0.00      0.00      0.00        11\n",
            "        SMOKER       0.00      0.00      0.00         3\n",
            "       UNKNOWN       0.73      0.95      0.83        63\n",
            "\n",
            "      accuracy                           0.67       104\n",
            "     macro avg       0.24      0.32      0.27       104\n",
            "  weighted avg       0.52      0.67      0.58       104\n",
            "\n"
          ]
        },
        {
          "output_type": "stream",
          "name": "stderr",
          "text": [
            "/usr/local/lib/python3.10/dist-packages/sklearn/metrics/_classification.py:1344: UndefinedMetricWarning: Precision and F-score are ill-defined and being set to 0.0 in labels with no predicted samples. Use `zero_division` parameter to control this behavior.\n",
            "  _warn_prf(average, modifier, msg_start, len(result))\n",
            "/usr/local/lib/python3.10/dist-packages/sklearn/metrics/_classification.py:1344: UndefinedMetricWarning: Precision and F-score are ill-defined and being set to 0.0 in labels with no predicted samples. Use `zero_division` parameter to control this behavior.\n",
            "  _warn_prf(average, modifier, msg_start, len(result))\n",
            "/usr/local/lib/python3.10/dist-packages/sklearn/metrics/_classification.py:1344: UndefinedMetricWarning: Precision and F-score are ill-defined and being set to 0.0 in labels with no predicted samples. Use `zero_division` parameter to control this behavior.\n",
            "  _warn_prf(average, modifier, msg_start, len(result))\n"
          ]
        }
      ],
      "source": [
        "# need answers from test set to do this (smoking status)\n",
        "from sklearn.metrics import accuracy_score, classification_report\n",
        "\n",
        "true_labels_test = smoking_status_test_labels_df['Smoking_Status'].values\n",
        "\n",
        "# accuracy\n",
        "accuracy = accuracy_score(true_labels_test, predicted_test)\n",
        "print(f'Accuracy on the test set: {accuracy:.2%}')\n",
        "\n",
        "# classification report\n",
        "print(classification_report(true_labels_test, predicted_test))"
      ]
    },
    {
      "cell_type": "markdown",
      "metadata": {
        "id": "pzz2Ai5BGyD_"
      },
      "source": [
        "#### Reduced Text"
      ]
    },
    {
      "cell_type": "code",
      "execution_count": null,
      "metadata": {
        "id": "MKFySlWGGz-U",
        "colab": {
          "base_uri": "https://localhost:8080/"
        },
        "outputId": "621adb11-1448-4eff-be19-e58c3141ab30"
      },
      "outputs": [
        {
          "output_type": "stream",
          "name": "stdout",
          "text": [
            "Accuracy on the test set: 84.62%\n",
            "                precision    recall  f1-score   support\n",
            "\n",
            "CURRENT SMOKER       0.50      0.64      0.56        11\n",
            "    NON-SMOKER       0.93      0.88      0.90        16\n",
            "   PAST SMOKER       0.54      0.64      0.58        11\n",
            "        SMOKER       0.00      0.00      0.00         3\n",
            "       UNKNOWN       0.97      0.95      0.96        63\n",
            "\n",
            "      accuracy                           0.85       104\n",
            "     macro avg       0.59      0.62      0.60       104\n",
            "  weighted avg       0.84      0.85      0.84       104\n",
            "\n"
          ]
        },
        {
          "output_type": "stream",
          "name": "stderr",
          "text": [
            "/usr/local/lib/python3.10/dist-packages/sklearn/metrics/_classification.py:1344: UndefinedMetricWarning: Precision and F-score are ill-defined and being set to 0.0 in labels with no predicted samples. Use `zero_division` parameter to control this behavior.\n",
            "  _warn_prf(average, modifier, msg_start, len(result))\n",
            "/usr/local/lib/python3.10/dist-packages/sklearn/metrics/_classification.py:1344: UndefinedMetricWarning: Precision and F-score are ill-defined and being set to 0.0 in labels with no predicted samples. Use `zero_division` parameter to control this behavior.\n",
            "  _warn_prf(average, modifier, msg_start, len(result))\n",
            "/usr/local/lib/python3.10/dist-packages/sklearn/metrics/_classification.py:1344: UndefinedMetricWarning: Precision and F-score are ill-defined and being set to 0.0 in labels with no predicted samples. Use `zero_division` parameter to control this behavior.\n",
            "  _warn_prf(average, modifier, msg_start, len(result))\n"
          ]
        }
      ],
      "source": [
        "# need answers from test set to do this (smoking status)\n",
        "true_labels_test = smoking_status_test_labels_df['Smoking_Status'].values\n",
        "\n",
        "# accuracy\n",
        "accuracy = accuracy_score(true_labels_test, predicted_test_red)\n",
        "print(f'Accuracy on the test set: {accuracy:.2%}')\n",
        "\n",
        "# classification report\n",
        "print(classification_report(true_labels_test, predicted_test_red))"
      ]
    },
    {
      "cell_type": "markdown",
      "metadata": {
        "id": "7xEYJvfrWg3b"
      },
      "source": [
        "### PLAY AROUND WITH PARAMETERS"
      ]
    },
    {
      "cell_type": "code",
      "execution_count": null,
      "metadata": {
        "id": "y3pKLFMGWg3l",
        "colab": {
          "base_uri": "https://localhost:8080/",
          "height": 125
        },
        "outputId": "6bd66ac9-903f-4a73-b5f4-e9c25adccbdd"
      },
      "outputs": [
        {
          "output_type": "execute_result",
          "data": {
            "text/plain": [
              "Pipeline(steps=[('tfidf', TfidfVectorizer(use_idf=False)),\n",
              "                ('clf', LogisticRegression(C=100, max_iter=1000))])"
            ],
            "text/html": [
              "<style>#sk-container-id-7 {color: black;background-color: white;}#sk-container-id-7 pre{padding: 0;}#sk-container-id-7 div.sk-toggleable {background-color: white;}#sk-container-id-7 label.sk-toggleable__label {cursor: pointer;display: block;width: 100%;margin-bottom: 0;padding: 0.3em;box-sizing: border-box;text-align: center;}#sk-container-id-7 label.sk-toggleable__label-arrow:before {content: \"▸\";float: left;margin-right: 0.25em;color: #696969;}#sk-container-id-7 label.sk-toggleable__label-arrow:hover:before {color: black;}#sk-container-id-7 div.sk-estimator:hover label.sk-toggleable__label-arrow:before {color: black;}#sk-container-id-7 div.sk-toggleable__content {max-height: 0;max-width: 0;overflow: hidden;text-align: left;background-color: #f0f8ff;}#sk-container-id-7 div.sk-toggleable__content pre {margin: 0.2em;color: black;border-radius: 0.25em;background-color: #f0f8ff;}#sk-container-id-7 input.sk-toggleable__control:checked~div.sk-toggleable__content {max-height: 200px;max-width: 100%;overflow: auto;}#sk-container-id-7 input.sk-toggleable__control:checked~label.sk-toggleable__label-arrow:before {content: \"▾\";}#sk-container-id-7 div.sk-estimator input.sk-toggleable__control:checked~label.sk-toggleable__label {background-color: #d4ebff;}#sk-container-id-7 div.sk-label input.sk-toggleable__control:checked~label.sk-toggleable__label {background-color: #d4ebff;}#sk-container-id-7 input.sk-hidden--visually {border: 0;clip: rect(1px 1px 1px 1px);clip: rect(1px, 1px, 1px, 1px);height: 1px;margin: -1px;overflow: hidden;padding: 0;position: absolute;width: 1px;}#sk-container-id-7 div.sk-estimator {font-family: monospace;background-color: #f0f8ff;border: 1px dotted black;border-radius: 0.25em;box-sizing: border-box;margin-bottom: 0.5em;}#sk-container-id-7 div.sk-estimator:hover {background-color: #d4ebff;}#sk-container-id-7 div.sk-parallel-item::after {content: \"\";width: 100%;border-bottom: 1px solid gray;flex-grow: 1;}#sk-container-id-7 div.sk-label:hover label.sk-toggleable__label {background-color: #d4ebff;}#sk-container-id-7 div.sk-serial::before {content: \"\";position: absolute;border-left: 1px solid gray;box-sizing: border-box;top: 0;bottom: 0;left: 50%;z-index: 0;}#sk-container-id-7 div.sk-serial {display: flex;flex-direction: column;align-items: center;background-color: white;padding-right: 0.2em;padding-left: 0.2em;position: relative;}#sk-container-id-7 div.sk-item {position: relative;z-index: 1;}#sk-container-id-7 div.sk-parallel {display: flex;align-items: stretch;justify-content: center;background-color: white;position: relative;}#sk-container-id-7 div.sk-item::before, #sk-container-id-7 div.sk-parallel-item::before {content: \"\";position: absolute;border-left: 1px solid gray;box-sizing: border-box;top: 0;bottom: 0;left: 50%;z-index: -1;}#sk-container-id-7 div.sk-parallel-item {display: flex;flex-direction: column;z-index: 1;position: relative;background-color: white;}#sk-container-id-7 div.sk-parallel-item:first-child::after {align-self: flex-end;width: 50%;}#sk-container-id-7 div.sk-parallel-item:last-child::after {align-self: flex-start;width: 50%;}#sk-container-id-7 div.sk-parallel-item:only-child::after {width: 0;}#sk-container-id-7 div.sk-dashed-wrapped {border: 1px dashed gray;margin: 0 0.4em 0.5em 0.4em;box-sizing: border-box;padding-bottom: 0.4em;background-color: white;}#sk-container-id-7 div.sk-label label {font-family: monospace;font-weight: bold;display: inline-block;line-height: 1.2em;}#sk-container-id-7 div.sk-label-container {text-align: center;}#sk-container-id-7 div.sk-container {/* jupyter's `normalize.less` sets `[hidden] { display: none; }` but bootstrap.min.css set `[hidden] { display: none !important; }` so we also need the `!important` here to be able to override the default hidden behavior on the sphinx rendered scikit-learn.org. See: https://github.com/scikit-learn/scikit-learn/issues/21755 */display: inline-block !important;position: relative;}#sk-container-id-7 div.sk-text-repr-fallback {display: none;}</style><div id=\"sk-container-id-7\" class=\"sk-top-container\"><div class=\"sk-text-repr-fallback\"><pre>Pipeline(steps=[(&#x27;tfidf&#x27;, TfidfVectorizer(use_idf=False)),\n",
              "                (&#x27;clf&#x27;, LogisticRegression(C=100, max_iter=1000))])</pre><b>In a Jupyter environment, please rerun this cell to show the HTML representation or trust the notebook. <br />On GitHub, the HTML representation is unable to render, please try loading this page with nbviewer.org.</b></div><div class=\"sk-container\" hidden><div class=\"sk-item sk-dashed-wrapped\"><div class=\"sk-label-container\"><div class=\"sk-label sk-toggleable\"><input class=\"sk-toggleable__control sk-hidden--visually\" id=\"sk-estimator-id-19\" type=\"checkbox\" ><label for=\"sk-estimator-id-19\" class=\"sk-toggleable__label sk-toggleable__label-arrow\">Pipeline</label><div class=\"sk-toggleable__content\"><pre>Pipeline(steps=[(&#x27;tfidf&#x27;, TfidfVectorizer(use_idf=False)),\n",
              "                (&#x27;clf&#x27;, LogisticRegression(C=100, max_iter=1000))])</pre></div></div></div><div class=\"sk-serial\"><div class=\"sk-item\"><div class=\"sk-estimator sk-toggleable\"><input class=\"sk-toggleable__control sk-hidden--visually\" id=\"sk-estimator-id-20\" type=\"checkbox\" ><label for=\"sk-estimator-id-20\" class=\"sk-toggleable__label sk-toggleable__label-arrow\">TfidfVectorizer</label><div class=\"sk-toggleable__content\"><pre>TfidfVectorizer(use_idf=False)</pre></div></div></div><div class=\"sk-item\"><div class=\"sk-estimator sk-toggleable\"><input class=\"sk-toggleable__control sk-hidden--visually\" id=\"sk-estimator-id-21\" type=\"checkbox\" ><label for=\"sk-estimator-id-21\" class=\"sk-toggleable__label sk-toggleable__label-arrow\">LogisticRegression</label><div class=\"sk-toggleable__content\"><pre>LogisticRegression(C=100, max_iter=1000)</pre></div></div></div></div></div></div></div>"
            ]
          },
          "metadata": {},
          "execution_count": 54
        }
      ],
      "source": [
        "# TEST NON REDUCED\n",
        "\n",
        "\n",
        "final_text_clf_nonred_temp = Pipeline([\n",
        "    ('tfidf', TfidfVectorizer(ngram_range=(1,1), use_idf=False)),\n",
        "    ('clf', LogisticRegression(C=100, max_iter=1000)),  # Adjust max_iter as needed\n",
        "])\n",
        "\n",
        "\n",
        "final_text_clf_nonred_temp.fit(X_train, y_train)\n"
      ]
    },
    {
      "cell_type": "code",
      "execution_count": null,
      "metadata": {
        "id": "Oz74phyRWg3l",
        "colab": {
          "base_uri": "https://localhost:8080/",
          "height": 125
        },
        "outputId": "a787bbd7-c796-4233-f292-21d6d276d510"
      },
      "outputs": [
        {
          "output_type": "execute_result",
          "data": {
            "text/plain": [
              "Pipeline(steps=[('tfidf', TfidfVectorizer(ngram_range=(1, 3))),\n",
              "                ('clf', LogisticRegression(C=100, max_iter=1000))])"
            ],
            "text/html": [
              "<style>#sk-container-id-8 {color: black;background-color: white;}#sk-container-id-8 pre{padding: 0;}#sk-container-id-8 div.sk-toggleable {background-color: white;}#sk-container-id-8 label.sk-toggleable__label {cursor: pointer;display: block;width: 100%;margin-bottom: 0;padding: 0.3em;box-sizing: border-box;text-align: center;}#sk-container-id-8 label.sk-toggleable__label-arrow:before {content: \"▸\";float: left;margin-right: 0.25em;color: #696969;}#sk-container-id-8 label.sk-toggleable__label-arrow:hover:before {color: black;}#sk-container-id-8 div.sk-estimator:hover label.sk-toggleable__label-arrow:before {color: black;}#sk-container-id-8 div.sk-toggleable__content {max-height: 0;max-width: 0;overflow: hidden;text-align: left;background-color: #f0f8ff;}#sk-container-id-8 div.sk-toggleable__content pre {margin: 0.2em;color: black;border-radius: 0.25em;background-color: #f0f8ff;}#sk-container-id-8 input.sk-toggleable__control:checked~div.sk-toggleable__content {max-height: 200px;max-width: 100%;overflow: auto;}#sk-container-id-8 input.sk-toggleable__control:checked~label.sk-toggleable__label-arrow:before {content: \"▾\";}#sk-container-id-8 div.sk-estimator input.sk-toggleable__control:checked~label.sk-toggleable__label {background-color: #d4ebff;}#sk-container-id-8 div.sk-label input.sk-toggleable__control:checked~label.sk-toggleable__label {background-color: #d4ebff;}#sk-container-id-8 input.sk-hidden--visually {border: 0;clip: rect(1px 1px 1px 1px);clip: rect(1px, 1px, 1px, 1px);height: 1px;margin: -1px;overflow: hidden;padding: 0;position: absolute;width: 1px;}#sk-container-id-8 div.sk-estimator {font-family: monospace;background-color: #f0f8ff;border: 1px dotted black;border-radius: 0.25em;box-sizing: border-box;margin-bottom: 0.5em;}#sk-container-id-8 div.sk-estimator:hover {background-color: #d4ebff;}#sk-container-id-8 div.sk-parallel-item::after {content: \"\";width: 100%;border-bottom: 1px solid gray;flex-grow: 1;}#sk-container-id-8 div.sk-label:hover label.sk-toggleable__label {background-color: #d4ebff;}#sk-container-id-8 div.sk-serial::before {content: \"\";position: absolute;border-left: 1px solid gray;box-sizing: border-box;top: 0;bottom: 0;left: 50%;z-index: 0;}#sk-container-id-8 div.sk-serial {display: flex;flex-direction: column;align-items: center;background-color: white;padding-right: 0.2em;padding-left: 0.2em;position: relative;}#sk-container-id-8 div.sk-item {position: relative;z-index: 1;}#sk-container-id-8 div.sk-parallel {display: flex;align-items: stretch;justify-content: center;background-color: white;position: relative;}#sk-container-id-8 div.sk-item::before, #sk-container-id-8 div.sk-parallel-item::before {content: \"\";position: absolute;border-left: 1px solid gray;box-sizing: border-box;top: 0;bottom: 0;left: 50%;z-index: -1;}#sk-container-id-8 div.sk-parallel-item {display: flex;flex-direction: column;z-index: 1;position: relative;background-color: white;}#sk-container-id-8 div.sk-parallel-item:first-child::after {align-self: flex-end;width: 50%;}#sk-container-id-8 div.sk-parallel-item:last-child::after {align-self: flex-start;width: 50%;}#sk-container-id-8 div.sk-parallel-item:only-child::after {width: 0;}#sk-container-id-8 div.sk-dashed-wrapped {border: 1px dashed gray;margin: 0 0.4em 0.5em 0.4em;box-sizing: border-box;padding-bottom: 0.4em;background-color: white;}#sk-container-id-8 div.sk-label label {font-family: monospace;font-weight: bold;display: inline-block;line-height: 1.2em;}#sk-container-id-8 div.sk-label-container {text-align: center;}#sk-container-id-8 div.sk-container {/* jupyter's `normalize.less` sets `[hidden] { display: none; }` but bootstrap.min.css set `[hidden] { display: none !important; }` so we also need the `!important` here to be able to override the default hidden behavior on the sphinx rendered scikit-learn.org. See: https://github.com/scikit-learn/scikit-learn/issues/21755 */display: inline-block !important;position: relative;}#sk-container-id-8 div.sk-text-repr-fallback {display: none;}</style><div id=\"sk-container-id-8\" class=\"sk-top-container\"><div class=\"sk-text-repr-fallback\"><pre>Pipeline(steps=[(&#x27;tfidf&#x27;, TfidfVectorizer(ngram_range=(1, 3))),\n",
              "                (&#x27;clf&#x27;, LogisticRegression(C=100, max_iter=1000))])</pre><b>In a Jupyter environment, please rerun this cell to show the HTML representation or trust the notebook. <br />On GitHub, the HTML representation is unable to render, please try loading this page with nbviewer.org.</b></div><div class=\"sk-container\" hidden><div class=\"sk-item sk-dashed-wrapped\"><div class=\"sk-label-container\"><div class=\"sk-label sk-toggleable\"><input class=\"sk-toggleable__control sk-hidden--visually\" id=\"sk-estimator-id-22\" type=\"checkbox\" ><label for=\"sk-estimator-id-22\" class=\"sk-toggleable__label sk-toggleable__label-arrow\">Pipeline</label><div class=\"sk-toggleable__content\"><pre>Pipeline(steps=[(&#x27;tfidf&#x27;, TfidfVectorizer(ngram_range=(1, 3))),\n",
              "                (&#x27;clf&#x27;, LogisticRegression(C=100, max_iter=1000))])</pre></div></div></div><div class=\"sk-serial\"><div class=\"sk-item\"><div class=\"sk-estimator sk-toggleable\"><input class=\"sk-toggleable__control sk-hidden--visually\" id=\"sk-estimator-id-23\" type=\"checkbox\" ><label for=\"sk-estimator-id-23\" class=\"sk-toggleable__label sk-toggleable__label-arrow\">TfidfVectorizer</label><div class=\"sk-toggleable__content\"><pre>TfidfVectorizer(ngram_range=(1, 3))</pre></div></div></div><div class=\"sk-item\"><div class=\"sk-estimator sk-toggleable\"><input class=\"sk-toggleable__control sk-hidden--visually\" id=\"sk-estimator-id-24\" type=\"checkbox\" ><label for=\"sk-estimator-id-24\" class=\"sk-toggleable__label sk-toggleable__label-arrow\">LogisticRegression</label><div class=\"sk-toggleable__content\"><pre>LogisticRegression(C=100, max_iter=1000)</pre></div></div></div></div></div></div></div>"
            ]
          },
          "metadata": {},
          "execution_count": 55
        }
      ],
      "source": [
        "# TEST REDUCED\n",
        "final_text_clf_red_temp = Pipeline([\n",
        "    ('tfidf', TfidfVectorizer(ngram_range=(1,3), use_idf=True)),\n",
        "    ('clf', LogisticRegression(C=100, max_iter=1000)),  # Adjust max_iter as needed\n",
        "])\n",
        "final_text_clf_red_temp.fit(X_train_red, y_train_red)\n"
      ]
    },
    {
      "cell_type": "code",
      "execution_count": null,
      "metadata": {
        "id": "L9eZm0aGWg3m",
        "colab": {
          "base_uri": "https://localhost:8080/"
        },
        "outputId": "65dbece3-2d7e-4d25-af5c-045cfc6df153"
      },
      "outputs": [
        {
          "output_type": "execute_result",
          "data": {
            "text/plain": [
              "array(['UNKNOWN', 'PAST SMOKER', 'UNKNOWN', 'NON-SMOKER', 'UNKNOWN',\n",
              "       'NON-SMOKER', 'NON-SMOKER', 'NON-SMOKER', 'NON-SMOKER',\n",
              "       'NON-SMOKER', 'UNKNOWN', 'NON-SMOKER', 'UNKNOWN', 'UNKNOWN',\n",
              "       'UNKNOWN', 'NON-SMOKER', 'CURRENT SMOKER', 'NON-SMOKER', 'UNKNOWN',\n",
              "       'UNKNOWN', 'UNKNOWN', 'UNKNOWN', 'UNKNOWN', 'UNKNOWN', 'UNKNOWN',\n",
              "       'UNKNOWN', 'UNKNOWN', 'UNKNOWN', 'UNKNOWN', 'UNKNOWN', 'UNKNOWN',\n",
              "       'UNKNOWN', 'UNKNOWN', 'PAST SMOKER', 'UNKNOWN', 'UNKNOWN',\n",
              "       'UNKNOWN', 'UNKNOWN', 'UNKNOWN', 'CURRENT SMOKER', 'NON-SMOKER',\n",
              "       'UNKNOWN', 'UNKNOWN', 'UNKNOWN', 'UNKNOWN', 'UNKNOWN', 'UNKNOWN',\n",
              "       'NON-SMOKER', 'UNKNOWN', 'UNKNOWN', 'UNKNOWN', 'NON-SMOKER',\n",
              "       'NON-SMOKER', 'UNKNOWN', 'UNKNOWN', 'NON-SMOKER', 'NON-SMOKER',\n",
              "       'NON-SMOKER', 'CURRENT SMOKER', 'UNKNOWN', 'UNKNOWN',\n",
              "       'CURRENT SMOKER', 'UNKNOWN', 'UNKNOWN', 'UNKNOWN', 'UNKNOWN',\n",
              "       'UNKNOWN', 'UNKNOWN', 'UNKNOWN', 'UNKNOWN', 'NON-SMOKER',\n",
              "       'CURRENT SMOKER', 'UNKNOWN', 'UNKNOWN', 'UNKNOWN', 'UNKNOWN',\n",
              "       'NON-SMOKER', 'NON-SMOKER', 'NON-SMOKER', 'UNKNOWN',\n",
              "       'CURRENT SMOKER', 'NON-SMOKER', 'UNKNOWN', 'CURRENT SMOKER',\n",
              "       'UNKNOWN', 'UNKNOWN', 'UNKNOWN', 'NON-SMOKER', 'UNKNOWN',\n",
              "       'UNKNOWN', 'UNKNOWN', 'UNKNOWN', 'UNKNOWN', 'UNKNOWN', 'UNKNOWN',\n",
              "       'UNKNOWN', 'UNKNOWN', 'UNKNOWN', 'UNKNOWN', 'UNKNOWN', 'UNKNOWN',\n",
              "       'UNKNOWN', 'UNKNOWN', 'UNKNOWN'], dtype=object)"
            ]
          },
          "metadata": {},
          "execution_count": 56
        }
      ],
      "source": [
        "# TRAIN NON-REDUCED\n",
        "X_test_temp = smoking_status_test_df['Text'].values\n",
        "\n",
        "predicted_test_temp = final_text_clf_nonred_temp.predict(X_test_temp)\n",
        "predicted_test_temp"
      ]
    },
    {
      "cell_type": "code",
      "execution_count": null,
      "metadata": {
        "id": "LlwFyUFfWg3m",
        "colab": {
          "base_uri": "https://localhost:8080/"
        },
        "outputId": "85ab30ba-eb8c-445a-a2ab-5d890dbc8553"
      },
      "outputs": [
        {
          "output_type": "execute_result",
          "data": {
            "text/plain": [
              "array(['CURRENT SMOKER', 'CURRENT SMOKER', 'PAST SMOKER',\n",
              "       'CURRENT SMOKER', 'CURRENT SMOKER', 'NON-SMOKER', 'NON-SMOKER',\n",
              "       'NON-SMOKER', 'NON-SMOKER', 'UNKNOWN', 'NON-SMOKER', 'UNKNOWN',\n",
              "       'NON-SMOKER', 'PAST SMOKER', 'PAST SMOKER', 'NON-SMOKER',\n",
              "       'PAST SMOKER', 'UNKNOWN', 'UNKNOWN', 'UNKNOWN', 'UNKNOWN',\n",
              "       'PAST SMOKER', 'UNKNOWN', 'UNKNOWN', 'UNKNOWN', 'UNKNOWN',\n",
              "       'UNKNOWN', 'UNKNOWN', 'UNKNOWN', 'UNKNOWN', 'UNKNOWN',\n",
              "       'CURRENT SMOKER', 'UNKNOWN', 'UNKNOWN', 'UNKNOWN', 'UNKNOWN',\n",
              "       'UNKNOWN', 'UNKNOWN', 'UNKNOWN', 'UNKNOWN', 'UNKNOWN', 'UNKNOWN',\n",
              "       'UNKNOWN', 'UNKNOWN', 'UNKNOWN', 'UNKNOWN', 'UNKNOWN', 'UNKNOWN',\n",
              "       'UNKNOWN', 'UNKNOWN', 'UNKNOWN', 'UNKNOWN', 'UNKNOWN',\n",
              "       'CURRENT SMOKER', 'NON-SMOKER', 'NON-SMOKER', 'NON-SMOKER',\n",
              "       'PAST SMOKER', 'CURRENT SMOKER', 'CURRENT SMOKER', 'PAST SMOKER',\n",
              "       'CURRENT SMOKER', 'PAST SMOKER', 'UNKNOWN', 'UNKNOWN', 'UNKNOWN',\n",
              "       'UNKNOWN', 'UNKNOWN', 'UNKNOWN', 'UNKNOWN', 'PAST SMOKER',\n",
              "       'CURRENT SMOKER', 'CURRENT SMOKER', 'PAST SMOKER',\n",
              "       'CURRENT SMOKER', 'CURRENT SMOKER', 'NON-SMOKER', 'NON-SMOKER',\n",
              "       'NON-SMOKER', 'NON-SMOKER', 'NON-SMOKER', 'PAST SMOKER',\n",
              "       'PAST SMOKER', 'PAST SMOKER', 'UNKNOWN', 'UNKNOWN', 'UNKNOWN',\n",
              "       'UNKNOWN', 'UNKNOWN', 'CURRENT SMOKER', 'UNKNOWN', 'UNKNOWN',\n",
              "       'UNKNOWN', 'UNKNOWN', 'UNKNOWN', 'UNKNOWN', 'UNKNOWN', 'UNKNOWN',\n",
              "       'UNKNOWN', 'UNKNOWN', 'UNKNOWN', 'UNKNOWN', 'UNKNOWN', 'UNKNOWN'],\n",
              "      dtype=object)"
            ]
          },
          "metadata": {},
          "execution_count": 57
        }
      ],
      "source": [
        "# TRAIN REDUCED\n",
        "X_test_red_temp = smoking_status_test_df['Reduced Text'].values\n",
        "\n",
        "# making predictions on the test set\n",
        "predicted_test_red_temp = final_text_clf_red_temp.predict(X_test_red_temp)\n",
        "predicted_test_red_temp"
      ]
    },
    {
      "cell_type": "code",
      "execution_count": null,
      "metadata": {
        "id": "49fQvPeHWg3m",
        "colab": {
          "base_uri": "https://localhost:8080/"
        },
        "outputId": "91e9f534-7b16-42d0-e25b-71b1de55c849"
      },
      "outputs": [
        {
          "output_type": "stream",
          "name": "stdout",
          "text": [
            "Accuracy on the non-reduced test set: 63.46%\n",
            "                precision    recall  f1-score   support\n",
            "\n",
            "CURRENT SMOKER       0.00      0.00      0.00        11\n",
            "    NON-SMOKER       0.50      0.69      0.58        16\n",
            "   PAST SMOKER       0.00      0.00      0.00        11\n",
            "        SMOKER       0.00      0.00      0.00         3\n",
            "       UNKNOWN       0.75      0.87      0.81        63\n",
            "\n",
            "      accuracy                           0.63       104\n",
            "     macro avg       0.25      0.31      0.28       104\n",
            "  weighted avg       0.53      0.63      0.58       104\n",
            "\n"
          ]
        },
        {
          "output_type": "stream",
          "name": "stderr",
          "text": [
            "/usr/local/lib/python3.10/dist-packages/sklearn/metrics/_classification.py:1344: UndefinedMetricWarning: Precision and F-score are ill-defined and being set to 0.0 in labels with no predicted samples. Use `zero_division` parameter to control this behavior.\n",
            "  _warn_prf(average, modifier, msg_start, len(result))\n",
            "/usr/local/lib/python3.10/dist-packages/sklearn/metrics/_classification.py:1344: UndefinedMetricWarning: Precision and F-score are ill-defined and being set to 0.0 in labels with no predicted samples. Use `zero_division` parameter to control this behavior.\n",
            "  _warn_prf(average, modifier, msg_start, len(result))\n",
            "/usr/local/lib/python3.10/dist-packages/sklearn/metrics/_classification.py:1344: UndefinedMetricWarning: Precision and F-score are ill-defined and being set to 0.0 in labels with no predicted samples. Use `zero_division` parameter to control this behavior.\n",
            "  _warn_prf(average, modifier, msg_start, len(result))\n"
          ]
        }
      ],
      "source": [
        "# Accuracy Non-reduced\n",
        "# need answers from test set to do this (smoking status)\n",
        "from sklearn.metrics import accuracy_score, classification_report\n",
        "\n",
        "true_labels_test = smoking_status_test_labels_df['Smoking_Status'].values\n",
        "\n",
        "# accuracy\n",
        "accuracy = accuracy_score(true_labels_test, predicted_test_temp)\n",
        "print(f'Accuracy on the non-reduced test set: {accuracy:.2%}')\n",
        "\n",
        "# classification report\n",
        "print(classification_report(true_labels_test, predicted_test_temp))"
      ]
    },
    {
      "cell_type": "code",
      "execution_count": null,
      "metadata": {
        "id": "XrieG5izWg3m",
        "colab": {
          "base_uri": "https://localhost:8080/"
        },
        "outputId": "99d0177a-effb-4988-8002-e2457a7b10d6"
      },
      "outputs": [
        {
          "output_type": "stream",
          "name": "stdout",
          "text": [
            "Accuracy on the reduced test set: 84.62%\n",
            "                precision    recall  f1-score   support\n",
            "\n",
            "CURRENT SMOKER       0.50      0.64      0.56        11\n",
            "    NON-SMOKER       0.93      0.88      0.90        16\n",
            "   PAST SMOKER       0.54      0.64      0.58        11\n",
            "        SMOKER       0.00      0.00      0.00         3\n",
            "       UNKNOWN       0.97      0.95      0.96        63\n",
            "\n",
            "      accuracy                           0.85       104\n",
            "     macro avg       0.59      0.62      0.60       104\n",
            "  weighted avg       0.84      0.85      0.84       104\n",
            "\n"
          ]
        },
        {
          "output_type": "stream",
          "name": "stderr",
          "text": [
            "/usr/local/lib/python3.10/dist-packages/sklearn/metrics/_classification.py:1344: UndefinedMetricWarning: Precision and F-score are ill-defined and being set to 0.0 in labels with no predicted samples. Use `zero_division` parameter to control this behavior.\n",
            "  _warn_prf(average, modifier, msg_start, len(result))\n",
            "/usr/local/lib/python3.10/dist-packages/sklearn/metrics/_classification.py:1344: UndefinedMetricWarning: Precision and F-score are ill-defined and being set to 0.0 in labels with no predicted samples. Use `zero_division` parameter to control this behavior.\n",
            "  _warn_prf(average, modifier, msg_start, len(result))\n",
            "/usr/local/lib/python3.10/dist-packages/sklearn/metrics/_classification.py:1344: UndefinedMetricWarning: Precision and F-score are ill-defined and being set to 0.0 in labels with no predicted samples. Use `zero_division` parameter to control this behavior.\n",
            "  _warn_prf(average, modifier, msg_start, len(result))\n"
          ]
        }
      ],
      "source": [
        "# Accuracy Reduced\n",
        "# need answers from test set to do this (smoking status)\n",
        "from sklearn.metrics import accuracy_score, classification_report\n",
        "\n",
        "true_labels_test = smoking_status_test_labels_df['Smoking_Status'].values\n",
        "\n",
        "# accuracy\n",
        "accuracy = accuracy_score(true_labels_test, predicted_test_red_temp)\n",
        "print(f'Accuracy on the reduced test set: {accuracy:.2%}')\n",
        "\n",
        "# classification report\n",
        "print(classification_report(true_labels_test, predicted_test_red_temp))"
      ]
    },
    {
      "cell_type": "markdown",
      "metadata": {
        "id": "VObAT7BnG4iT"
      },
      "source": [
        "# Model Three: Random Forest"
      ]
    },
    {
      "cell_type": "code",
      "execution_count": null,
      "metadata": {
        "id": "3mQRv80EHZJF"
      },
      "outputs": [],
      "source": [
        "from sklearn.ensemble import RandomForestClassifier\n",
        "from sklearn.feature_extraction.text import TfidfVectorizer\n",
        "from sklearn.model_selection import GridSearchCV\n",
        "from sklearn.pipeline import Pipeline\n",
        "from sklearn.model_selection import GridSearchCV\n",
        "from sklearn.model_selection import train_test_split"
      ]
    },
    {
      "cell_type": "code",
      "execution_count": null,
      "metadata": {
        "id": "6qYpT7NnHXGI"
      },
      "outputs": [],
      "source": [
        "parameters = {\n",
        "    'tfidf__ngram_range': [(1, 1), (1, 2), (1, 3)],\n",
        "    'tfidf__use_idf': (True, False),\n",
        "    'clf__n_estimators': [50, 100, 200],\n",
        "    'clf__max_depth': [None, 10, 20, 30],\n",
        "}\n",
        "\n",
        "# Pipeline with Random Forest\n",
        "text_clf = Pipeline([\n",
        "    ('tfidf', TfidfVectorizer()),\n",
        "    ('clf', RandomForestClassifier()),\n",
        "])\n"
      ]
    },
    {
      "cell_type": "markdown",
      "metadata": {
        "id": "1uTv8B1He8Up"
      },
      "source": [
        "## Find the best parameters"
      ]
    },
    {
      "cell_type": "code",
      "execution_count": null,
      "metadata": {
        "id": "q-q0nBmCe8Uy"
      },
      "outputs": [],
      "source": [
        "# X values are text and y values are smoking status\n",
        "X_train = smoking_status_train_df['Text'].values\n",
        "y_train = smoking_status_train_df['Smoking_Status'].values"
      ]
    },
    {
      "cell_type": "code",
      "execution_count": null,
      "metadata": {
        "id": "l78ZSByXe8Uy"
      },
      "outputs": [],
      "source": [
        "# X values are text and y values are smoking status\n",
        "X_train_red = smoking_status_train_df['Reduced Text'].values\n",
        "y_train_red = smoking_status_train_df['Smoking_Status'].values"
      ]
    },
    {
      "cell_type": "code",
      "execution_count": null,
      "metadata": {
        "id": "nNA-6RsEe8Uy",
        "colab": {
          "base_uri": "https://localhost:8080/"
        },
        "outputId": "3cc7ccf2-12ad-4a37-a1df-644d100bd0e1"
      },
      "outputs": [
        {
          "output_type": "stream",
          "name": "stdout",
          "text": [
            "Best parameters found for non-reduced data:  {'clf__max_depth': None, 'clf__n_estimators': 50, 'tfidf__ngram_range': (1, 1), 'tfidf__use_idf': False}\n",
            "Best parameters found for reduced data:  {'clf__max_depth': None, 'clf__n_estimators': 100, 'tfidf__ngram_range': (1, 2), 'tfidf__use_idf': True}\n"
          ]
        }
      ],
      "source": [
        "# Grid search for non-reduced data\n",
        "grid_search_non_reduced = GridSearchCV(text_clf, parameters, cv=5, n_jobs=-1, scoring='accuracy')\n",
        "RF_non_reduced_parms = grid_search_non_reduced.fit(X_train, y_train)\n",
        "\n",
        "# Print the best parameters found for the non-reduced data\n",
        "print(\"Best parameters found for non-reduced data: \", RF_non_reduced_parms.best_params_)\n",
        "\n",
        "# Grid search for reduced data\n",
        "grid_search_reduced = GridSearchCV(text_clf, parameters, cv=5, n_jobs=-1, scoring='accuracy')\n",
        "RF_reduced_parms = grid_search_reduced.fit(X_train_red, y_train_red)\n",
        "\n",
        "# Print the best parameters found for the reduced data\n",
        "print(\"Best parameters found for reduced data: \", RF_reduced_parms.best_params_)\n"
      ]
    },
    {
      "cell_type": "markdown",
      "metadata": {
        "id": "lj-sgdFCaQA6"
      },
      "source": [
        "## Train the model using the best parameters"
      ]
    },
    {
      "cell_type": "markdown",
      "metadata": {
        "id": "6MWYGiPGaQBC"
      },
      "source": [
        "#### Non reduced"
      ]
    },
    {
      "cell_type": "code",
      "execution_count": null,
      "metadata": {
        "id": "tabMv7q8aQBC",
        "colab": {
          "base_uri": "https://localhost:8080/"
        },
        "outputId": "a4b926ef-65ae-4764-b2fa-ef84659b6e8b"
      },
      "outputs": [
        {
          "output_type": "execute_result",
          "data": {
            "text/plain": [
              "Pipeline(steps=[('tfidf', TfidfVectorizer(use_idf=False)),\n",
              "                ('clf', RandomForestClassifier(n_estimators=50))])"
            ],
            "text/html": [
              "<style>#sk-container-id-1 {color: black;background-color: white;}#sk-container-id-1 pre{padding: 0;}#sk-container-id-1 div.sk-toggleable {background-color: white;}#sk-container-id-1 label.sk-toggleable__label {cursor: pointer;display: block;width: 100%;margin-bottom: 0;padding: 0.3em;box-sizing: border-box;text-align: center;}#sk-container-id-1 label.sk-toggleable__label-arrow:before {content: \"▸\";float: left;margin-right: 0.25em;color: #696969;}#sk-container-id-1 label.sk-toggleable__label-arrow:hover:before {color: black;}#sk-container-id-1 div.sk-estimator:hover label.sk-toggleable__label-arrow:before {color: black;}#sk-container-id-1 div.sk-toggleable__content {max-height: 0;max-width: 0;overflow: hidden;text-align: left;background-color: #f0f8ff;}#sk-container-id-1 div.sk-toggleable__content pre {margin: 0.2em;color: black;border-radius: 0.25em;background-color: #f0f8ff;}#sk-container-id-1 input.sk-toggleable__control:checked~div.sk-toggleable__content {max-height: 200px;max-width: 100%;overflow: auto;}#sk-container-id-1 input.sk-toggleable__control:checked~label.sk-toggleable__label-arrow:before {content: \"▾\";}#sk-container-id-1 div.sk-estimator input.sk-toggleable__control:checked~label.sk-toggleable__label {background-color: #d4ebff;}#sk-container-id-1 div.sk-label input.sk-toggleable__control:checked~label.sk-toggleable__label {background-color: #d4ebff;}#sk-container-id-1 input.sk-hidden--visually {border: 0;clip: rect(1px 1px 1px 1px);clip: rect(1px, 1px, 1px, 1px);height: 1px;margin: -1px;overflow: hidden;padding: 0;position: absolute;width: 1px;}#sk-container-id-1 div.sk-estimator {font-family: monospace;background-color: #f0f8ff;border: 1px dotted black;border-radius: 0.25em;box-sizing: border-box;margin-bottom: 0.5em;}#sk-container-id-1 div.sk-estimator:hover {background-color: #d4ebff;}#sk-container-id-1 div.sk-parallel-item::after {content: \"\";width: 100%;border-bottom: 1px solid gray;flex-grow: 1;}#sk-container-id-1 div.sk-label:hover label.sk-toggleable__label {background-color: #d4ebff;}#sk-container-id-1 div.sk-serial::before {content: \"\";position: absolute;border-left: 1px solid gray;box-sizing: border-box;top: 0;bottom: 0;left: 50%;z-index: 0;}#sk-container-id-1 div.sk-serial {display: flex;flex-direction: column;align-items: center;background-color: white;padding-right: 0.2em;padding-left: 0.2em;position: relative;}#sk-container-id-1 div.sk-item {position: relative;z-index: 1;}#sk-container-id-1 div.sk-parallel {display: flex;align-items: stretch;justify-content: center;background-color: white;position: relative;}#sk-container-id-1 div.sk-item::before, #sk-container-id-1 div.sk-parallel-item::before {content: \"\";position: absolute;border-left: 1px solid gray;box-sizing: border-box;top: 0;bottom: 0;left: 50%;z-index: -1;}#sk-container-id-1 div.sk-parallel-item {display: flex;flex-direction: column;z-index: 1;position: relative;background-color: white;}#sk-container-id-1 div.sk-parallel-item:first-child::after {align-self: flex-end;width: 50%;}#sk-container-id-1 div.sk-parallel-item:last-child::after {align-self: flex-start;width: 50%;}#sk-container-id-1 div.sk-parallel-item:only-child::after {width: 0;}#sk-container-id-1 div.sk-dashed-wrapped {border: 1px dashed gray;margin: 0 0.4em 0.5em 0.4em;box-sizing: border-box;padding-bottom: 0.4em;background-color: white;}#sk-container-id-1 div.sk-label label {font-family: monospace;font-weight: bold;display: inline-block;line-height: 1.2em;}#sk-container-id-1 div.sk-label-container {text-align: center;}#sk-container-id-1 div.sk-container {/* jupyter's `normalize.less` sets `[hidden] { display: none; }` but bootstrap.min.css set `[hidden] { display: none !important; }` so we also need the `!important` here to be able to override the default hidden behavior on the sphinx rendered scikit-learn.org. See: https://github.com/scikit-learn/scikit-learn/issues/21755 */display: inline-block !important;position: relative;}#sk-container-id-1 div.sk-text-repr-fallback {display: none;}</style><div id=\"sk-container-id-1\" class=\"sk-top-container\"><div class=\"sk-text-repr-fallback\"><pre>Pipeline(steps=[(&#x27;tfidf&#x27;, TfidfVectorizer(use_idf=False)),\n",
              "                (&#x27;clf&#x27;, RandomForestClassifier(n_estimators=50))])</pre><b>In a Jupyter environment, please rerun this cell to show the HTML representation or trust the notebook. <br />On GitHub, the HTML representation is unable to render, please try loading this page with nbviewer.org.</b></div><div class=\"sk-container\" hidden><div class=\"sk-item sk-dashed-wrapped\"><div class=\"sk-label-container\"><div class=\"sk-label sk-toggleable\"><input class=\"sk-toggleable__control sk-hidden--visually\" id=\"sk-estimator-id-1\" type=\"checkbox\" ><label for=\"sk-estimator-id-1\" class=\"sk-toggleable__label sk-toggleable__label-arrow\">Pipeline</label><div class=\"sk-toggleable__content\"><pre>Pipeline(steps=[(&#x27;tfidf&#x27;, TfidfVectorizer(use_idf=False)),\n",
              "                (&#x27;clf&#x27;, RandomForestClassifier(n_estimators=50))])</pre></div></div></div><div class=\"sk-serial\"><div class=\"sk-item\"><div class=\"sk-estimator sk-toggleable\"><input class=\"sk-toggleable__control sk-hidden--visually\" id=\"sk-estimator-id-2\" type=\"checkbox\" ><label for=\"sk-estimator-id-2\" class=\"sk-toggleable__label sk-toggleable__label-arrow\">TfidfVectorizer</label><div class=\"sk-toggleable__content\"><pre>TfidfVectorizer(use_idf=False)</pre></div></div></div><div class=\"sk-item\"><div class=\"sk-estimator sk-toggleable\"><input class=\"sk-toggleable__control sk-hidden--visually\" id=\"sk-estimator-id-3\" type=\"checkbox\" ><label for=\"sk-estimator-id-3\" class=\"sk-toggleable__label sk-toggleable__label-arrow\">RandomForestClassifier</label><div class=\"sk-toggleable__content\"><pre>RandomForestClassifier(n_estimators=50)</pre></div></div></div></div></div></div></div>"
            ]
          },
          "metadata": {},
          "execution_count": 32
        }
      ],
      "source": [
        "# Use the best parameters (from search above)\n",
        "best_params_nonred = grid_search_non_reduced.best_params_\n",
        "\n",
        "# Create the final pipeline with the best hyperparameters\n",
        "final_text_clf_nonred = Pipeline([\n",
        "    ('tfidf', TfidfVectorizer(ngram_range=best_params_nonred['tfidf__ngram_range'], use_idf=best_params_nonred['tfidf__use_idf'])),\n",
        "    ('clf', RandomForestClassifier(n_estimators=best_params_nonred['clf__n_estimators'], max_depth=best_params_nonred['clf__max_depth'])),\n",
        "])\n",
        "\n",
        "# Train the final model on the entire training dataset\n",
        "final_text_clf_nonred.fit(X_train, y_train)\n",
        "\n"
      ]
    },
    {
      "cell_type": "markdown",
      "metadata": {
        "id": "OJy3u34BaQBC"
      },
      "source": [
        "#### Reduced"
      ]
    },
    {
      "cell_type": "code",
      "execution_count": null,
      "metadata": {
        "id": "dEMy8d5laQBC",
        "colab": {
          "base_uri": "https://localhost:8080/"
        },
        "outputId": "d0e4fe77-2660-4f33-f7bc-b42cbf00ce44"
      },
      "outputs": [
        {
          "output_type": "execute_result",
          "data": {
            "text/plain": [
              "Pipeline(steps=[('tfidf', TfidfVectorizer(use_idf=False)),\n",
              "                ('clf', RandomForestClassifier(n_estimators=50))])"
            ],
            "text/html": [
              "<style>#sk-container-id-2 {color: black;background-color: white;}#sk-container-id-2 pre{padding: 0;}#sk-container-id-2 div.sk-toggleable {background-color: white;}#sk-container-id-2 label.sk-toggleable__label {cursor: pointer;display: block;width: 100%;margin-bottom: 0;padding: 0.3em;box-sizing: border-box;text-align: center;}#sk-container-id-2 label.sk-toggleable__label-arrow:before {content: \"▸\";float: left;margin-right: 0.25em;color: #696969;}#sk-container-id-2 label.sk-toggleable__label-arrow:hover:before {color: black;}#sk-container-id-2 div.sk-estimator:hover label.sk-toggleable__label-arrow:before {color: black;}#sk-container-id-2 div.sk-toggleable__content {max-height: 0;max-width: 0;overflow: hidden;text-align: left;background-color: #f0f8ff;}#sk-container-id-2 div.sk-toggleable__content pre {margin: 0.2em;color: black;border-radius: 0.25em;background-color: #f0f8ff;}#sk-container-id-2 input.sk-toggleable__control:checked~div.sk-toggleable__content {max-height: 200px;max-width: 100%;overflow: auto;}#sk-container-id-2 input.sk-toggleable__control:checked~label.sk-toggleable__label-arrow:before {content: \"▾\";}#sk-container-id-2 div.sk-estimator input.sk-toggleable__control:checked~label.sk-toggleable__label {background-color: #d4ebff;}#sk-container-id-2 div.sk-label input.sk-toggleable__control:checked~label.sk-toggleable__label {background-color: #d4ebff;}#sk-container-id-2 input.sk-hidden--visually {border: 0;clip: rect(1px 1px 1px 1px);clip: rect(1px, 1px, 1px, 1px);height: 1px;margin: -1px;overflow: hidden;padding: 0;position: absolute;width: 1px;}#sk-container-id-2 div.sk-estimator {font-family: monospace;background-color: #f0f8ff;border: 1px dotted black;border-radius: 0.25em;box-sizing: border-box;margin-bottom: 0.5em;}#sk-container-id-2 div.sk-estimator:hover {background-color: #d4ebff;}#sk-container-id-2 div.sk-parallel-item::after {content: \"\";width: 100%;border-bottom: 1px solid gray;flex-grow: 1;}#sk-container-id-2 div.sk-label:hover label.sk-toggleable__label {background-color: #d4ebff;}#sk-container-id-2 div.sk-serial::before {content: \"\";position: absolute;border-left: 1px solid gray;box-sizing: border-box;top: 0;bottom: 0;left: 50%;z-index: 0;}#sk-container-id-2 div.sk-serial {display: flex;flex-direction: column;align-items: center;background-color: white;padding-right: 0.2em;padding-left: 0.2em;position: relative;}#sk-container-id-2 div.sk-item {position: relative;z-index: 1;}#sk-container-id-2 div.sk-parallel {display: flex;align-items: stretch;justify-content: center;background-color: white;position: relative;}#sk-container-id-2 div.sk-item::before, #sk-container-id-2 div.sk-parallel-item::before {content: \"\";position: absolute;border-left: 1px solid gray;box-sizing: border-box;top: 0;bottom: 0;left: 50%;z-index: -1;}#sk-container-id-2 div.sk-parallel-item {display: flex;flex-direction: column;z-index: 1;position: relative;background-color: white;}#sk-container-id-2 div.sk-parallel-item:first-child::after {align-self: flex-end;width: 50%;}#sk-container-id-2 div.sk-parallel-item:last-child::after {align-self: flex-start;width: 50%;}#sk-container-id-2 div.sk-parallel-item:only-child::after {width: 0;}#sk-container-id-2 div.sk-dashed-wrapped {border: 1px dashed gray;margin: 0 0.4em 0.5em 0.4em;box-sizing: border-box;padding-bottom: 0.4em;background-color: white;}#sk-container-id-2 div.sk-label label {font-family: monospace;font-weight: bold;display: inline-block;line-height: 1.2em;}#sk-container-id-2 div.sk-label-container {text-align: center;}#sk-container-id-2 div.sk-container {/* jupyter's `normalize.less` sets `[hidden] { display: none; }` but bootstrap.min.css set `[hidden] { display: none !important; }` so we also need the `!important` here to be able to override the default hidden behavior on the sphinx rendered scikit-learn.org. See: https://github.com/scikit-learn/scikit-learn/issues/21755 */display: inline-block !important;position: relative;}#sk-container-id-2 div.sk-text-repr-fallback {display: none;}</style><div id=\"sk-container-id-2\" class=\"sk-top-container\"><div class=\"sk-text-repr-fallback\"><pre>Pipeline(steps=[(&#x27;tfidf&#x27;, TfidfVectorizer(use_idf=False)),\n",
              "                (&#x27;clf&#x27;, RandomForestClassifier(n_estimators=50))])</pre><b>In a Jupyter environment, please rerun this cell to show the HTML representation or trust the notebook. <br />On GitHub, the HTML representation is unable to render, please try loading this page with nbviewer.org.</b></div><div class=\"sk-container\" hidden><div class=\"sk-item sk-dashed-wrapped\"><div class=\"sk-label-container\"><div class=\"sk-label sk-toggleable\"><input class=\"sk-toggleable__control sk-hidden--visually\" id=\"sk-estimator-id-4\" type=\"checkbox\" ><label for=\"sk-estimator-id-4\" class=\"sk-toggleable__label sk-toggleable__label-arrow\">Pipeline</label><div class=\"sk-toggleable__content\"><pre>Pipeline(steps=[(&#x27;tfidf&#x27;, TfidfVectorizer(use_idf=False)),\n",
              "                (&#x27;clf&#x27;, RandomForestClassifier(n_estimators=50))])</pre></div></div></div><div class=\"sk-serial\"><div class=\"sk-item\"><div class=\"sk-estimator sk-toggleable\"><input class=\"sk-toggleable__control sk-hidden--visually\" id=\"sk-estimator-id-5\" type=\"checkbox\" ><label for=\"sk-estimator-id-5\" class=\"sk-toggleable__label sk-toggleable__label-arrow\">TfidfVectorizer</label><div class=\"sk-toggleable__content\"><pre>TfidfVectorizer(use_idf=False)</pre></div></div></div><div class=\"sk-item\"><div class=\"sk-estimator sk-toggleable\"><input class=\"sk-toggleable__control sk-hidden--visually\" id=\"sk-estimator-id-6\" type=\"checkbox\" ><label for=\"sk-estimator-id-6\" class=\"sk-toggleable__label sk-toggleable__label-arrow\">RandomForestClassifier</label><div class=\"sk-toggleable__content\"><pre>RandomForestClassifier(n_estimators=50)</pre></div></div></div></div></div></div></div>"
            ]
          },
          "metadata": {},
          "execution_count": 33
        }
      ],
      "source": [
        "# Use the best parameters (from search above)\n",
        "best_params_red = grid_search_reduced.best_params_\n",
        "\n",
        "# Create the final pipeline with the best hyperparameters\n",
        "final_text_clf_red = Pipeline([\n",
        "    ('tfidf', TfidfVectorizer(ngram_range=best_params_nonred['tfidf__ngram_range'], use_idf=best_params_nonred['tfidf__use_idf'])),\n",
        "    ('clf', RandomForestClassifier(n_estimators=best_params_nonred['clf__n_estimators'], max_depth=best_params_nonred['clf__max_depth'])),\n",
        "])\n",
        "\n",
        "# Train the final model on the entire training dataset\n",
        "final_text_clf_red.fit(X_train_red, y_train_red)\n"
      ]
    },
    {
      "cell_type": "markdown",
      "metadata": {
        "id": "nfxzeHS9_3nt"
      },
      "source": [
        "## Make predictions on test set"
      ]
    },
    {
      "cell_type": "markdown",
      "metadata": {
        "id": "ayPthrT9_3nt"
      },
      "source": [
        "non-reduced"
      ]
    },
    {
      "cell_type": "code",
      "execution_count": null,
      "metadata": {
        "id": "Ya8jfGvK_3nt"
      },
      "outputs": [],
      "source": [
        "X_test = smoking_status_test_df['Text'].values\n",
        "\n",
        "# making predictions on the test set (to do later)\n",
        "predicted_test = final_text_clf_nonred.predict(X_test)"
      ]
    },
    {
      "cell_type": "markdown",
      "metadata": {
        "id": "0ju-mqNM_3nu"
      },
      "source": [
        "reduced"
      ]
    },
    {
      "cell_type": "code",
      "execution_count": null,
      "metadata": {
        "id": "oALp5l6t_3nu"
      },
      "outputs": [],
      "source": [
        "X_test_red = smoking_status_test_df['Reduced Text'].values\n",
        "\n",
        "# making predictions on the test set (to do later)\n",
        "predicted_test_red = final_text_clf_red.predict(X_test_red)"
      ]
    },
    {
      "cell_type": "markdown",
      "metadata": {
        "id": "h2TK6JhiZqhd"
      },
      "source": [
        "## Accuracy"
      ]
    },
    {
      "cell_type": "markdown",
      "metadata": {
        "id": "3Hqc3p-SZqhe"
      },
      "source": [
        "#### Non Reduced Text"
      ]
    },
    {
      "cell_type": "markdown",
      "metadata": {
        "id": "MI1X6hqtZqhe"
      },
      "source": [
        "Best Parameters"
      ]
    },
    {
      "cell_type": "code",
      "execution_count": null,
      "metadata": {
        "colab": {
          "base_uri": "https://localhost:8080/"
        },
        "id": "E8sGxV9EZqhe",
        "outputId": "6c769905-1bd3-4223-f48e-80191d76ad29"
      },
      "outputs": [
        {
          "output_type": "stream",
          "name": "stdout",
          "text": [
            "Accuracy on the non-reduced test set: 65.38%\n",
            "                precision    recall  f1-score   support\n",
            "\n",
            "CURRENT SMOKER       0.00      0.00      0.00        11\n",
            "    NON-SMOKER       0.55      0.38      0.44        16\n",
            "   PAST SMOKER       0.00      0.00      0.00        11\n",
            "        SMOKER       0.00      0.00      0.00         3\n",
            "       UNKNOWN       0.67      0.98      0.79        63\n",
            "\n",
            "      accuracy                           0.65       104\n",
            "     macro avg       0.24      0.27      0.25       104\n",
            "  weighted avg       0.49      0.65      0.55       104\n",
            "\n"
          ]
        },
        {
          "output_type": "stream",
          "name": "stderr",
          "text": [
            "/usr/local/lib/python3.10/dist-packages/sklearn/metrics/_classification.py:1344: UndefinedMetricWarning: Precision and F-score are ill-defined and being set to 0.0 in labels with no predicted samples. Use `zero_division` parameter to control this behavior.\n",
            "  _warn_prf(average, modifier, msg_start, len(result))\n",
            "/usr/local/lib/python3.10/dist-packages/sklearn/metrics/_classification.py:1344: UndefinedMetricWarning: Precision and F-score are ill-defined and being set to 0.0 in labels with no predicted samples. Use `zero_division` parameter to control this behavior.\n",
            "  _warn_prf(average, modifier, msg_start, len(result))\n",
            "/usr/local/lib/python3.10/dist-packages/sklearn/metrics/_classification.py:1344: UndefinedMetricWarning: Precision and F-score are ill-defined and being set to 0.0 in labels with no predicted samples. Use `zero_division` parameter to control this behavior.\n",
            "  _warn_prf(average, modifier, msg_start, len(result))\n"
          ]
        }
      ],
      "source": [
        "# need answers from test set to do this (smoking status)\n",
        "from sklearn.metrics import accuracy_score, classification_report\n",
        "\n",
        "true_labels_test = smoking_status_test_labels_df['Smoking_Status'].values\n",
        "\n",
        "# accuracy\n",
        "accuracy = accuracy_score(true_labels_test, predicted_test)\n",
        "print(f'Accuracy on the non-reduced test set: {accuracy:.2%}')\n",
        "\n",
        "# classification report\n",
        "print(classification_report(true_labels_test, predicted_test))"
      ]
    },
    {
      "cell_type": "markdown",
      "metadata": {
        "id": "93aImsReZxEN"
      },
      "source": [
        "Reduced Text"
      ]
    },
    {
      "cell_type": "code",
      "execution_count": null,
      "metadata": {
        "id": "LllTnJExZqhe",
        "colab": {
          "base_uri": "https://localhost:8080/"
        },
        "outputId": "a222e137-0af5-4d3a-8208-aa05d95fcf12"
      },
      "outputs": [
        {
          "output_type": "stream",
          "name": "stdout",
          "text": [
            "Accuracy on the reduced test set: 81.73%\n",
            "                precision    recall  f1-score   support\n",
            "\n",
            "CURRENT SMOKER       0.43      0.27      0.33        11\n",
            "    NON-SMOKER       0.67      0.88      0.76        16\n",
            "   PAST SMOKER       0.62      0.73      0.67        11\n",
            "        SMOKER       0.00      0.00      0.00         3\n",
            "       UNKNOWN       0.97      0.95      0.96        63\n",
            "\n",
            "      accuracy                           0.82       104\n",
            "     macro avg       0.54      0.57      0.54       104\n",
            "  weighted avg       0.80      0.82      0.80       104\n",
            "\n"
          ]
        }
      ],
      "source": [
        "# need answers from test set to do this (smoking status)\n",
        "from sklearn.metrics import accuracy_score, classification_report\n",
        "\n",
        "true_labels_test = smoking_status_test_labels_df['Smoking_Status'].values\n",
        "\n",
        "# accuracy\n",
        "accuracy = accuracy_score(true_labels_test, predicted_test_red)\n",
        "print(f'Accuracy on the reduced test set: {accuracy:.2%}')\n",
        "\n",
        "# classification report\n",
        "print(classification_report(true_labels_test, predicted_test_red))"
      ]
    },
    {
      "cell_type": "markdown",
      "metadata": {
        "id": "vZHsYe0hZKhq"
      },
      "source": [
        "### PLAY AROUND WITH PARAMETERS"
      ]
    },
    {
      "cell_type": "code",
      "execution_count": null,
      "metadata": {
        "id": "tkWaiu7qZKhr",
        "colab": {
          "base_uri": "https://localhost:8080/"
        },
        "outputId": "893015ec-571d-4775-eae4-e81097c9873a"
      },
      "outputs": [
        {
          "output_type": "execute_result",
          "data": {
            "text/plain": [
              "Pipeline(steps=[('tfidf', TfidfVectorizer()),\n",
              "                ('clf', RandomForestClassifier(max_depth=10, n_estimators=50))])"
            ],
            "text/html": [
              "<style>#sk-container-id-3 {color: black;background-color: white;}#sk-container-id-3 pre{padding: 0;}#sk-container-id-3 div.sk-toggleable {background-color: white;}#sk-container-id-3 label.sk-toggleable__label {cursor: pointer;display: block;width: 100%;margin-bottom: 0;padding: 0.3em;box-sizing: border-box;text-align: center;}#sk-container-id-3 label.sk-toggleable__label-arrow:before {content: \"▸\";float: left;margin-right: 0.25em;color: #696969;}#sk-container-id-3 label.sk-toggleable__label-arrow:hover:before {color: black;}#sk-container-id-3 div.sk-estimator:hover label.sk-toggleable__label-arrow:before {color: black;}#sk-container-id-3 div.sk-toggleable__content {max-height: 0;max-width: 0;overflow: hidden;text-align: left;background-color: #f0f8ff;}#sk-container-id-3 div.sk-toggleable__content pre {margin: 0.2em;color: black;border-radius: 0.25em;background-color: #f0f8ff;}#sk-container-id-3 input.sk-toggleable__control:checked~div.sk-toggleable__content {max-height: 200px;max-width: 100%;overflow: auto;}#sk-container-id-3 input.sk-toggleable__control:checked~label.sk-toggleable__label-arrow:before {content: \"▾\";}#sk-container-id-3 div.sk-estimator input.sk-toggleable__control:checked~label.sk-toggleable__label {background-color: #d4ebff;}#sk-container-id-3 div.sk-label input.sk-toggleable__control:checked~label.sk-toggleable__label {background-color: #d4ebff;}#sk-container-id-3 input.sk-hidden--visually {border: 0;clip: rect(1px 1px 1px 1px);clip: rect(1px, 1px, 1px, 1px);height: 1px;margin: -1px;overflow: hidden;padding: 0;position: absolute;width: 1px;}#sk-container-id-3 div.sk-estimator {font-family: monospace;background-color: #f0f8ff;border: 1px dotted black;border-radius: 0.25em;box-sizing: border-box;margin-bottom: 0.5em;}#sk-container-id-3 div.sk-estimator:hover {background-color: #d4ebff;}#sk-container-id-3 div.sk-parallel-item::after {content: \"\";width: 100%;border-bottom: 1px solid gray;flex-grow: 1;}#sk-container-id-3 div.sk-label:hover label.sk-toggleable__label {background-color: #d4ebff;}#sk-container-id-3 div.sk-serial::before {content: \"\";position: absolute;border-left: 1px solid gray;box-sizing: border-box;top: 0;bottom: 0;left: 50%;z-index: 0;}#sk-container-id-3 div.sk-serial {display: flex;flex-direction: column;align-items: center;background-color: white;padding-right: 0.2em;padding-left: 0.2em;position: relative;}#sk-container-id-3 div.sk-item {position: relative;z-index: 1;}#sk-container-id-3 div.sk-parallel {display: flex;align-items: stretch;justify-content: center;background-color: white;position: relative;}#sk-container-id-3 div.sk-item::before, #sk-container-id-3 div.sk-parallel-item::before {content: \"\";position: absolute;border-left: 1px solid gray;box-sizing: border-box;top: 0;bottom: 0;left: 50%;z-index: -1;}#sk-container-id-3 div.sk-parallel-item {display: flex;flex-direction: column;z-index: 1;position: relative;background-color: white;}#sk-container-id-3 div.sk-parallel-item:first-child::after {align-self: flex-end;width: 50%;}#sk-container-id-3 div.sk-parallel-item:last-child::after {align-self: flex-start;width: 50%;}#sk-container-id-3 div.sk-parallel-item:only-child::after {width: 0;}#sk-container-id-3 div.sk-dashed-wrapped {border: 1px dashed gray;margin: 0 0.4em 0.5em 0.4em;box-sizing: border-box;padding-bottom: 0.4em;background-color: white;}#sk-container-id-3 div.sk-label label {font-family: monospace;font-weight: bold;display: inline-block;line-height: 1.2em;}#sk-container-id-3 div.sk-label-container {text-align: center;}#sk-container-id-3 div.sk-container {/* jupyter's `normalize.less` sets `[hidden] { display: none; }` but bootstrap.min.css set `[hidden] { display: none !important; }` so we also need the `!important` here to be able to override the default hidden behavior on the sphinx rendered scikit-learn.org. See: https://github.com/scikit-learn/scikit-learn/issues/21755 */display: inline-block !important;position: relative;}#sk-container-id-3 div.sk-text-repr-fallback {display: none;}</style><div id=\"sk-container-id-3\" class=\"sk-top-container\"><div class=\"sk-text-repr-fallback\"><pre>Pipeline(steps=[(&#x27;tfidf&#x27;, TfidfVectorizer()),\n",
              "                (&#x27;clf&#x27;, RandomForestClassifier(max_depth=10, n_estimators=50))])</pre><b>In a Jupyter environment, please rerun this cell to show the HTML representation or trust the notebook. <br />On GitHub, the HTML representation is unable to render, please try loading this page with nbviewer.org.</b></div><div class=\"sk-container\" hidden><div class=\"sk-item sk-dashed-wrapped\"><div class=\"sk-label-container\"><div class=\"sk-label sk-toggleable\"><input class=\"sk-toggleable__control sk-hidden--visually\" id=\"sk-estimator-id-7\" type=\"checkbox\" ><label for=\"sk-estimator-id-7\" class=\"sk-toggleable__label sk-toggleable__label-arrow\">Pipeline</label><div class=\"sk-toggleable__content\"><pre>Pipeline(steps=[(&#x27;tfidf&#x27;, TfidfVectorizer()),\n",
              "                (&#x27;clf&#x27;, RandomForestClassifier(max_depth=10, n_estimators=50))])</pre></div></div></div><div class=\"sk-serial\"><div class=\"sk-item\"><div class=\"sk-estimator sk-toggleable\"><input class=\"sk-toggleable__control sk-hidden--visually\" id=\"sk-estimator-id-8\" type=\"checkbox\" ><label for=\"sk-estimator-id-8\" class=\"sk-toggleable__label sk-toggleable__label-arrow\">TfidfVectorizer</label><div class=\"sk-toggleable__content\"><pre>TfidfVectorizer()</pre></div></div></div><div class=\"sk-item\"><div class=\"sk-estimator sk-toggleable\"><input class=\"sk-toggleable__control sk-hidden--visually\" id=\"sk-estimator-id-9\" type=\"checkbox\" ><label for=\"sk-estimator-id-9\" class=\"sk-toggleable__label sk-toggleable__label-arrow\">RandomForestClassifier</label><div class=\"sk-toggleable__content\"><pre>RandomForestClassifier(max_depth=10, n_estimators=50)</pre></div></div></div></div></div></div></div>"
            ]
          },
          "metadata": {},
          "execution_count": 38
        }
      ],
      "source": [
        "# TEST NON REDUCED\n",
        "\n",
        "final_text_clf_nonred_temp = Pipeline([\n",
        "    ('tfidf', TfidfVectorizer(ngram_range=(1,1), use_idf=True)),\n",
        "    ('clf', RandomForestClassifier(n_estimators=50, max_depth=10)),\n",
        "])\n",
        "\n",
        "final_text_clf_nonred_temp.fit(X_train, y_train)\n"
      ]
    },
    {
      "cell_type": "code",
      "execution_count": null,
      "metadata": {
        "id": "bUf-Lz7kZKhs",
        "colab": {
          "base_uri": "https://localhost:8080/"
        },
        "outputId": "6d3a9547-f377-4b04-ce27-69d585800a09"
      },
      "outputs": [
        {
          "output_type": "execute_result",
          "data": {
            "text/plain": [
              "Pipeline(steps=[('tfidf', TfidfVectorizer()),\n",
              "                ('clf', RandomForestClassifier(max_depth=10, n_estimators=50))])"
            ],
            "text/html": [
              "<style>#sk-container-id-4 {color: black;background-color: white;}#sk-container-id-4 pre{padding: 0;}#sk-container-id-4 div.sk-toggleable {background-color: white;}#sk-container-id-4 label.sk-toggleable__label {cursor: pointer;display: block;width: 100%;margin-bottom: 0;padding: 0.3em;box-sizing: border-box;text-align: center;}#sk-container-id-4 label.sk-toggleable__label-arrow:before {content: \"▸\";float: left;margin-right: 0.25em;color: #696969;}#sk-container-id-4 label.sk-toggleable__label-arrow:hover:before {color: black;}#sk-container-id-4 div.sk-estimator:hover label.sk-toggleable__label-arrow:before {color: black;}#sk-container-id-4 div.sk-toggleable__content {max-height: 0;max-width: 0;overflow: hidden;text-align: left;background-color: #f0f8ff;}#sk-container-id-4 div.sk-toggleable__content pre {margin: 0.2em;color: black;border-radius: 0.25em;background-color: #f0f8ff;}#sk-container-id-4 input.sk-toggleable__control:checked~div.sk-toggleable__content {max-height: 200px;max-width: 100%;overflow: auto;}#sk-container-id-4 input.sk-toggleable__control:checked~label.sk-toggleable__label-arrow:before {content: \"▾\";}#sk-container-id-4 div.sk-estimator input.sk-toggleable__control:checked~label.sk-toggleable__label {background-color: #d4ebff;}#sk-container-id-4 div.sk-label input.sk-toggleable__control:checked~label.sk-toggleable__label {background-color: #d4ebff;}#sk-container-id-4 input.sk-hidden--visually {border: 0;clip: rect(1px 1px 1px 1px);clip: rect(1px, 1px, 1px, 1px);height: 1px;margin: -1px;overflow: hidden;padding: 0;position: absolute;width: 1px;}#sk-container-id-4 div.sk-estimator {font-family: monospace;background-color: #f0f8ff;border: 1px dotted black;border-radius: 0.25em;box-sizing: border-box;margin-bottom: 0.5em;}#sk-container-id-4 div.sk-estimator:hover {background-color: #d4ebff;}#sk-container-id-4 div.sk-parallel-item::after {content: \"\";width: 100%;border-bottom: 1px solid gray;flex-grow: 1;}#sk-container-id-4 div.sk-label:hover label.sk-toggleable__label {background-color: #d4ebff;}#sk-container-id-4 div.sk-serial::before {content: \"\";position: absolute;border-left: 1px solid gray;box-sizing: border-box;top: 0;bottom: 0;left: 50%;z-index: 0;}#sk-container-id-4 div.sk-serial {display: flex;flex-direction: column;align-items: center;background-color: white;padding-right: 0.2em;padding-left: 0.2em;position: relative;}#sk-container-id-4 div.sk-item {position: relative;z-index: 1;}#sk-container-id-4 div.sk-parallel {display: flex;align-items: stretch;justify-content: center;background-color: white;position: relative;}#sk-container-id-4 div.sk-item::before, #sk-container-id-4 div.sk-parallel-item::before {content: \"\";position: absolute;border-left: 1px solid gray;box-sizing: border-box;top: 0;bottom: 0;left: 50%;z-index: -1;}#sk-container-id-4 div.sk-parallel-item {display: flex;flex-direction: column;z-index: 1;position: relative;background-color: white;}#sk-container-id-4 div.sk-parallel-item:first-child::after {align-self: flex-end;width: 50%;}#sk-container-id-4 div.sk-parallel-item:last-child::after {align-self: flex-start;width: 50%;}#sk-container-id-4 div.sk-parallel-item:only-child::after {width: 0;}#sk-container-id-4 div.sk-dashed-wrapped {border: 1px dashed gray;margin: 0 0.4em 0.5em 0.4em;box-sizing: border-box;padding-bottom: 0.4em;background-color: white;}#sk-container-id-4 div.sk-label label {font-family: monospace;font-weight: bold;display: inline-block;line-height: 1.2em;}#sk-container-id-4 div.sk-label-container {text-align: center;}#sk-container-id-4 div.sk-container {/* jupyter's `normalize.less` sets `[hidden] { display: none; }` but bootstrap.min.css set `[hidden] { display: none !important; }` so we also need the `!important` here to be able to override the default hidden behavior on the sphinx rendered scikit-learn.org. See: https://github.com/scikit-learn/scikit-learn/issues/21755 */display: inline-block !important;position: relative;}#sk-container-id-4 div.sk-text-repr-fallback {display: none;}</style><div id=\"sk-container-id-4\" class=\"sk-top-container\"><div class=\"sk-text-repr-fallback\"><pre>Pipeline(steps=[(&#x27;tfidf&#x27;, TfidfVectorizer()),\n",
              "                (&#x27;clf&#x27;, RandomForestClassifier(max_depth=10, n_estimators=50))])</pre><b>In a Jupyter environment, please rerun this cell to show the HTML representation or trust the notebook. <br />On GitHub, the HTML representation is unable to render, please try loading this page with nbviewer.org.</b></div><div class=\"sk-container\" hidden><div class=\"sk-item sk-dashed-wrapped\"><div class=\"sk-label-container\"><div class=\"sk-label sk-toggleable\"><input class=\"sk-toggleable__control sk-hidden--visually\" id=\"sk-estimator-id-10\" type=\"checkbox\" ><label for=\"sk-estimator-id-10\" class=\"sk-toggleable__label sk-toggleable__label-arrow\">Pipeline</label><div class=\"sk-toggleable__content\"><pre>Pipeline(steps=[(&#x27;tfidf&#x27;, TfidfVectorizer()),\n",
              "                (&#x27;clf&#x27;, RandomForestClassifier(max_depth=10, n_estimators=50))])</pre></div></div></div><div class=\"sk-serial\"><div class=\"sk-item\"><div class=\"sk-estimator sk-toggleable\"><input class=\"sk-toggleable__control sk-hidden--visually\" id=\"sk-estimator-id-11\" type=\"checkbox\" ><label for=\"sk-estimator-id-11\" class=\"sk-toggleable__label sk-toggleable__label-arrow\">TfidfVectorizer</label><div class=\"sk-toggleable__content\"><pre>TfidfVectorizer()</pre></div></div></div><div class=\"sk-item\"><div class=\"sk-estimator sk-toggleable\"><input class=\"sk-toggleable__control sk-hidden--visually\" id=\"sk-estimator-id-12\" type=\"checkbox\" ><label for=\"sk-estimator-id-12\" class=\"sk-toggleable__label sk-toggleable__label-arrow\">RandomForestClassifier</label><div class=\"sk-toggleable__content\"><pre>RandomForestClassifier(max_depth=10, n_estimators=50)</pre></div></div></div></div></div></div></div>"
            ]
          },
          "metadata": {},
          "execution_count": 39
        }
      ],
      "source": [
        "# TEST REDUCED\n",
        "final_text_clf_red_temp = Pipeline([\n",
        "    ('tfidf', TfidfVectorizer(ngram_range=(1,1), use_idf=True)),\n",
        "    ('clf', RandomForestClassifier(n_estimators=50, max_depth=10)),\n",
        "])\n",
        "final_text_clf_red_temp.fit(X_train_red, y_train_red)\n"
      ]
    },
    {
      "cell_type": "code",
      "execution_count": null,
      "metadata": {
        "id": "qTNsnKIsZKht",
        "colab": {
          "base_uri": "https://localhost:8080/"
        },
        "outputId": "54666a2e-8598-4c7d-be59-ee8eff9a79ac"
      },
      "outputs": [
        {
          "output_type": "execute_result",
          "data": {
            "text/plain": [
              "array(['UNKNOWN', 'UNKNOWN', 'UNKNOWN', 'UNKNOWN', 'UNKNOWN', 'UNKNOWN',\n",
              "       'UNKNOWN', 'UNKNOWN', 'UNKNOWN', 'UNKNOWN', 'UNKNOWN', 'UNKNOWN',\n",
              "       'UNKNOWN', 'PAST SMOKER', 'UNKNOWN', 'NON-SMOKER', 'UNKNOWN',\n",
              "       'UNKNOWN', 'UNKNOWN', 'UNKNOWN', 'UNKNOWN', 'UNKNOWN', 'UNKNOWN',\n",
              "       'UNKNOWN', 'UNKNOWN', 'UNKNOWN', 'UNKNOWN', 'UNKNOWN', 'UNKNOWN',\n",
              "       'UNKNOWN', 'UNKNOWN', 'UNKNOWN', 'UNKNOWN', 'UNKNOWN', 'UNKNOWN',\n",
              "       'UNKNOWN', 'UNKNOWN', 'UNKNOWN', 'UNKNOWN', 'UNKNOWN', 'UNKNOWN',\n",
              "       'UNKNOWN', 'UNKNOWN', 'UNKNOWN', 'UNKNOWN', 'UNKNOWN', 'UNKNOWN',\n",
              "       'UNKNOWN', 'UNKNOWN', 'UNKNOWN', 'UNKNOWN', 'UNKNOWN', 'UNKNOWN',\n",
              "       'UNKNOWN', 'UNKNOWN', 'UNKNOWN', 'UNKNOWN', 'UNKNOWN', 'UNKNOWN',\n",
              "       'UNKNOWN', 'UNKNOWN', 'UNKNOWN', 'UNKNOWN', 'UNKNOWN', 'UNKNOWN',\n",
              "       'UNKNOWN', 'UNKNOWN', 'UNKNOWN', 'UNKNOWN', 'UNKNOWN', 'UNKNOWN',\n",
              "       'UNKNOWN', 'UNKNOWN', 'UNKNOWN', 'UNKNOWN', 'UNKNOWN', 'UNKNOWN',\n",
              "       'UNKNOWN', 'NON-SMOKER', 'UNKNOWN', 'UNKNOWN', 'UNKNOWN',\n",
              "       'UNKNOWN', 'UNKNOWN', 'UNKNOWN', 'UNKNOWN', 'UNKNOWN', 'UNKNOWN',\n",
              "       'UNKNOWN', 'UNKNOWN', 'UNKNOWN', 'UNKNOWN', 'UNKNOWN', 'UNKNOWN',\n",
              "       'UNKNOWN', 'UNKNOWN', 'UNKNOWN', 'UNKNOWN', 'UNKNOWN', 'UNKNOWN',\n",
              "       'UNKNOWN', 'UNKNOWN', 'UNKNOWN', 'UNKNOWN'], dtype=object)"
            ]
          },
          "metadata": {},
          "execution_count": 40
        }
      ],
      "source": [
        "# TRAIN NON-REDUCED\n",
        "X_test_temp = smoking_status_test_df['Text'].values\n",
        "\n",
        "predicted_test_temp = final_text_clf_nonred_temp.predict(X_test_temp)\n",
        "predicted_test_temp"
      ]
    },
    {
      "cell_type": "code",
      "execution_count": null,
      "metadata": {
        "id": "zdYXOU4QZKht",
        "colab": {
          "base_uri": "https://localhost:8080/"
        },
        "outputId": "032d2713-8cf6-48d0-d6a2-520ffd3bb1f8"
      },
      "outputs": [
        {
          "output_type": "execute_result",
          "data": {
            "text/plain": [
              "array(['CURRENT SMOKER', 'PAST SMOKER', 'CURRENT SMOKER',\n",
              "       'CURRENT SMOKER', 'NON-SMOKER', 'NON-SMOKER', 'NON-SMOKER',\n",
              "       'NON-SMOKER', 'NON-SMOKER', 'UNKNOWN', 'NON-SMOKER', 'UNKNOWN',\n",
              "       'NON-SMOKER', 'PAST SMOKER', 'PAST SMOKER', 'CURRENT SMOKER',\n",
              "       'PAST SMOKER', 'UNKNOWN', 'UNKNOWN', 'UNKNOWN', 'UNKNOWN',\n",
              "       'PAST SMOKER', 'UNKNOWN', 'UNKNOWN', 'UNKNOWN', 'UNKNOWN',\n",
              "       'UNKNOWN', 'UNKNOWN', 'UNKNOWN', 'UNKNOWN', 'UNKNOWN',\n",
              "       'NON-SMOKER', 'UNKNOWN', 'UNKNOWN', 'UNKNOWN', 'UNKNOWN',\n",
              "       'UNKNOWN', 'UNKNOWN', 'UNKNOWN', 'UNKNOWN', 'UNKNOWN', 'UNKNOWN',\n",
              "       'UNKNOWN', 'UNKNOWN', 'UNKNOWN', 'UNKNOWN', 'UNKNOWN', 'UNKNOWN',\n",
              "       'UNKNOWN', 'UNKNOWN', 'UNKNOWN', 'UNKNOWN', 'UNKNOWN',\n",
              "       'CURRENT SMOKER', 'NON-SMOKER', 'NON-SMOKER', 'NON-SMOKER',\n",
              "       'PAST SMOKER', 'CURRENT SMOKER', 'CURRENT SMOKER', 'PAST SMOKER',\n",
              "       'NON-SMOKER', 'NON-SMOKER', 'UNKNOWN', 'UNKNOWN', 'UNKNOWN',\n",
              "       'UNKNOWN', 'UNKNOWN', 'UNKNOWN', 'UNKNOWN', 'NON-SMOKER',\n",
              "       'CURRENT SMOKER', 'CURRENT SMOKER', 'CURRENT SMOKER', 'NON-SMOKER',\n",
              "       'CURRENT SMOKER', 'NON-SMOKER', 'NON-SMOKER', 'NON-SMOKER',\n",
              "       'NON-SMOKER', 'NON-SMOKER', 'CURRENT SMOKER', 'NON-SMOKER',\n",
              "       'PAST SMOKER', 'UNKNOWN', 'UNKNOWN', 'UNKNOWN', 'UNKNOWN',\n",
              "       'UNKNOWN', 'NON-SMOKER', 'UNKNOWN', 'UNKNOWN', 'UNKNOWN',\n",
              "       'UNKNOWN', 'UNKNOWN', 'UNKNOWN', 'UNKNOWN', 'UNKNOWN', 'UNKNOWN',\n",
              "       'UNKNOWN', 'UNKNOWN', 'UNKNOWN', 'UNKNOWN', 'UNKNOWN'],\n",
              "      dtype=object)"
            ]
          },
          "metadata": {},
          "execution_count": 41
        }
      ],
      "source": [
        "# TRAIN REDUCED\n",
        "X_test_red_temp = smoking_status_test_df['Reduced Text'].values\n",
        "\n",
        "# making predictions on the test set\n",
        "predicted_test_red_temp = final_text_clf_red_temp.predict(X_test_red_temp)\n",
        "predicted_test_red_temp"
      ]
    },
    {
      "cell_type": "code",
      "execution_count": null,
      "metadata": {
        "id": "XUp6vOrSZKht",
        "colab": {
          "base_uri": "https://localhost:8080/"
        },
        "outputId": "83aa36bc-d842-4576-8fc8-996d336eb5aa"
      },
      "outputs": [
        {
          "output_type": "stream",
          "name": "stdout",
          "text": [
            "Accuracy on the non-reduced test set: 61.54%\n",
            "                precision    recall  f1-score   support\n",
            "\n",
            "CURRENT SMOKER       0.00      0.00      0.00        11\n",
            "    NON-SMOKER       0.50      0.06      0.11        16\n",
            "   PAST SMOKER       0.00      0.00      0.00        11\n",
            "        SMOKER       0.00      0.00      0.00         3\n",
            "       UNKNOWN       0.62      1.00      0.77        63\n",
            "\n",
            "      accuracy                           0.62       104\n",
            "     macro avg       0.22      0.21      0.18       104\n",
            "  weighted avg       0.45      0.62      0.48       104\n",
            "\n"
          ]
        },
        {
          "output_type": "stream",
          "name": "stderr",
          "text": [
            "/usr/local/lib/python3.10/dist-packages/sklearn/metrics/_classification.py:1344: UndefinedMetricWarning: Precision and F-score are ill-defined and being set to 0.0 in labels with no predicted samples. Use `zero_division` parameter to control this behavior.\n",
            "  _warn_prf(average, modifier, msg_start, len(result))\n",
            "/usr/local/lib/python3.10/dist-packages/sklearn/metrics/_classification.py:1344: UndefinedMetricWarning: Precision and F-score are ill-defined and being set to 0.0 in labels with no predicted samples. Use `zero_division` parameter to control this behavior.\n",
            "  _warn_prf(average, modifier, msg_start, len(result))\n",
            "/usr/local/lib/python3.10/dist-packages/sklearn/metrics/_classification.py:1344: UndefinedMetricWarning: Precision and F-score are ill-defined and being set to 0.0 in labels with no predicted samples. Use `zero_division` parameter to control this behavior.\n",
            "  _warn_prf(average, modifier, msg_start, len(result))\n"
          ]
        }
      ],
      "source": [
        "# Accuracy Non-reduced\n",
        "# need answers from test set to do this (smoking status)\n",
        "from sklearn.metrics import accuracy_score, classification_report\n",
        "\n",
        "true_labels_test = smoking_status_test_labels_df['Smoking_Status'].values\n",
        "\n",
        "# accuracy\n",
        "accuracy = accuracy_score(true_labels_test, predicted_test_temp)\n",
        "print(f'Accuracy on the non-reduced test set: {accuracy:.2%}')\n",
        "\n",
        "# classification report\n",
        "print(classification_report(true_labels_test, predicted_test_temp))"
      ]
    },
    {
      "cell_type": "code",
      "execution_count": null,
      "metadata": {
        "id": "HZJlHd5jZKhu",
        "colab": {
          "base_uri": "https://localhost:8080/"
        },
        "outputId": "d8606577-b398-402c-ecf7-6ed0fccdbbb2"
      },
      "outputs": [
        {
          "output_type": "stream",
          "name": "stdout",
          "text": [
            "Accuracy on the reduced test set: 81.73%\n",
            "                precision    recall  f1-score   support\n",
            "\n",
            "CURRENT SMOKER       0.50      0.55      0.52        11\n",
            "    NON-SMOKER       0.64      0.88      0.74        16\n",
            "   PAST SMOKER       0.62      0.45      0.53        11\n",
            "        SMOKER       0.00      0.00      0.00         3\n",
            "       UNKNOWN       0.97      0.95      0.96        63\n",
            "\n",
            "      accuracy                           0.82       104\n",
            "     macro avg       0.55      0.57      0.55       104\n",
            "  weighted avg       0.80      0.82      0.81       104\n",
            "\n"
          ]
        },
        {
          "output_type": "stream",
          "name": "stderr",
          "text": [
            "/usr/local/lib/python3.10/dist-packages/sklearn/metrics/_classification.py:1344: UndefinedMetricWarning: Precision and F-score are ill-defined and being set to 0.0 in labels with no predicted samples. Use `zero_division` parameter to control this behavior.\n",
            "  _warn_prf(average, modifier, msg_start, len(result))\n",
            "/usr/local/lib/python3.10/dist-packages/sklearn/metrics/_classification.py:1344: UndefinedMetricWarning: Precision and F-score are ill-defined and being set to 0.0 in labels with no predicted samples. Use `zero_division` parameter to control this behavior.\n",
            "  _warn_prf(average, modifier, msg_start, len(result))\n",
            "/usr/local/lib/python3.10/dist-packages/sklearn/metrics/_classification.py:1344: UndefinedMetricWarning: Precision and F-score are ill-defined and being set to 0.0 in labels with no predicted samples. Use `zero_division` parameter to control this behavior.\n",
            "  _warn_prf(average, modifier, msg_start, len(result))\n"
          ]
        }
      ],
      "source": [
        "# Accuracy Reduced\n",
        "# need answers from test set to do this (smoking status)\n",
        "from sklearn.metrics import accuracy_score, classification_report\n",
        "\n",
        "true_labels_test = smoking_status_test_labels_df['Smoking_Status'].values\n",
        "\n",
        "# accuracy\n",
        "accuracy = accuracy_score(true_labels_test, predicted_test_red_temp)\n",
        "print(f'Accuracy on the reduced test set: {accuracy:.2%}')\n",
        "\n",
        "# classification report\n",
        "print(classification_report(true_labels_test, predicted_test_red_temp))"
      ]
    }
  ],
  "metadata": {
    "colab": {
      "provenance": [],
      "collapsed_sections": [
        "Zms-_41bczY5",
        "VObAT7BnG4iT"
      ]
    },
    "kernelspec": {
      "display_name": "Python 3",
      "name": "python3"
    },
    "language_info": {
      "name": "python"
    }
  },
  "nbformat": 4,
  "nbformat_minor": 0
}